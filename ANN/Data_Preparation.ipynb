{
 "cells": [
  {
   "cell_type": "markdown",
   "id": "ebfb3ca1",
   "metadata": {},
   "source": [
    "# BTC trading algorithm using ANN"
   ]
  },
  {
   "cell_type": "markdown",
   "id": "3ccd02ce",
   "metadata": {},
   "source": [
    "Target variable will be rate of change"
   ]
  },
  {
   "cell_type": "markdown",
   "id": "6fd1a9f5",
   "metadata": {},
   "source": [
    "<p>X1 = (x(t) − x(t − 1))/x(t − 1)</p>\n",
    "<p>X2 = (x(t) − xl(t))/xh(t) − xl(t)</p>\n",
    "<p>X3 = (MA(t) − MA(t − 1))/MA(t − 1)</p>\n",
    "<p>X4 = (MAS(t) − MAL(t))/MAL(t)</p>\n",
    "<p>X5 = (x(t) − MA(t))/MA(t)</p>\n",
    "<p>X6 = x(t) − min(x(t), x(t − 1), . . . , x(t − 5))</p>\n",
    "<p>X7 = x(t) − max(x(t), x(t − 1), . . . , x(t − 5))</p>\n",
    "<p>X8 = # of days since the last golden-cross</p>\n",
    "<p>X9 = # of days since the last dead-cross</p>\n",
    "<p>X10 = the profit while the stock has risen or fallen continuously</p>\n",
    "<p>X11 = # of days for which the stock has risen or fallen continuously</p>\n",
    "<p>X12 = MACD(t)</p>\n",
    "<p>X13 = MACD(ema(t))</p>\n",
    "<p>X14 = RSI(t)</p>\n",
    "<p>X15 = %K (t)</p>\n",
    "<p>X16 = %D(t)</p>\n",
    "<p>X17 = %K (t) − %K (t − 1 )</p>\n",
    "<p>X18 = %D(t) − %D(t − 1 )</p>"
   ]
  },
  {
   "cell_type": "code",
   "execution_count": 1,
   "id": "8c3c5990",
   "metadata": {
    "ExecuteTime": {
     "end_time": "2022-01-20T08:56:19.966414Z",
     "start_time": "2022-01-20T08:56:19.012538Z"
    }
   },
   "outputs": [],
   "source": [
    "import pandas as pd\n",
    "import numpy as np\n",
    "import matplotlib.pyplot as plt\n",
    "import scipy.stats as stats"
   ]
  },
  {
   "cell_type": "markdown",
   "id": "11a568c1",
   "metadata": {},
   "source": [
    "## Load data"
   ]
  },
  {
   "cell_type": "code",
   "execution_count": 2,
   "id": "47eb3477",
   "metadata": {
    "ExecuteTime": {
     "end_time": "2022-01-20T08:56:47.317232Z",
     "start_time": "2022-01-20T08:56:47.230957Z"
    }
   },
   "outputs": [
    {
     "data": {
      "text/html": [
       "<div>\n",
       "<style scoped>\n",
       "    .dataframe tbody tr th:only-of-type {\n",
       "        vertical-align: middle;\n",
       "    }\n",
       "\n",
       "    .dataframe tbody tr th {\n",
       "        vertical-align: top;\n",
       "    }\n",
       "\n",
       "    .dataframe thead th {\n",
       "        text-align: right;\n",
       "    }\n",
       "</style>\n",
       "<table border=\"1\" class=\"dataframe\">\n",
       "  <thead>\n",
       "    <tr style=\"text-align: right;\">\n",
       "      <th></th>\n",
       "      <th>unix</th>\n",
       "      <th>date</th>\n",
       "      <th>symbol</th>\n",
       "      <th>open</th>\n",
       "      <th>high</th>\n",
       "      <th>low</th>\n",
       "      <th>close</th>\n",
       "      <th>Volume USD</th>\n",
       "      <th>Volume BTC</th>\n",
       "    </tr>\n",
       "  </thead>\n",
       "  <tbody>\n",
       "    <tr>\n",
       "      <th>0</th>\n",
       "      <td>1641427200000</td>\n",
       "      <td>2022-01-06 00:00:00</td>\n",
       "      <td>BTC/USD</td>\n",
       "      <td>43457.000000</td>\n",
       "      <td>43579.000000</td>\n",
       "      <td>43290.0</td>\n",
       "      <td>43556.0</td>\n",
       "      <td>3.132490e+06</td>\n",
       "      <td>71.918690</td>\n",
       "    </tr>\n",
       "    <tr>\n",
       "      <th>1</th>\n",
       "      <td>1641340800000</td>\n",
       "      <td>2022-01-05 00:00:00</td>\n",
       "      <td>BTC/USD</td>\n",
       "      <td>45830.000000</td>\n",
       "      <td>47058.000000</td>\n",
       "      <td>42505.0</td>\n",
       "      <td>43455.0</td>\n",
       "      <td>3.012357e+08</td>\n",
       "      <td>6932.129532</td>\n",
       "    </tr>\n",
       "    <tr>\n",
       "      <th>2</th>\n",
       "      <td>1641254400000</td>\n",
       "      <td>2022-01-04 00:00:00</td>\n",
       "      <td>BTC/USD</td>\n",
       "      <td>46449.615556</td>\n",
       "      <td>47671.862805</td>\n",
       "      <td>45568.0</td>\n",
       "      <td>45834.0</td>\n",
       "      <td>1.736399e+08</td>\n",
       "      <td>3788.452350</td>\n",
       "    </tr>\n",
       "    <tr>\n",
       "      <th>3</th>\n",
       "      <td>1641168000000</td>\n",
       "      <td>2022-01-03 00:00:00</td>\n",
       "      <td>BTC/USD</td>\n",
       "      <td>47304.235105</td>\n",
       "      <td>47578.000000</td>\n",
       "      <td>45689.0</td>\n",
       "      <td>46448.0</td>\n",
       "      <td>1.197406e+08</td>\n",
       "      <td>2577.950091</td>\n",
       "    </tr>\n",
       "    <tr>\n",
       "      <th>4</th>\n",
       "      <td>1641081600000</td>\n",
       "      <td>2022-01-02 00:00:00</td>\n",
       "      <td>BTC/USD</td>\n",
       "      <td>47746.000000</td>\n",
       "      <td>48012.000000</td>\n",
       "      <td>46648.0</td>\n",
       "      <td>47302.0</td>\n",
       "      <td>8.725996e+07</td>\n",
       "      <td>1844.741551</td>\n",
       "    </tr>\n",
       "  </tbody>\n",
       "</table>\n",
       "</div>"
      ],
      "text/plain": [
       "            unix                 date   symbol          open          high  \\\n",
       "0  1641427200000  2022-01-06 00:00:00  BTC/USD  43457.000000  43579.000000   \n",
       "1  1641340800000  2022-01-05 00:00:00  BTC/USD  45830.000000  47058.000000   \n",
       "2  1641254400000  2022-01-04 00:00:00  BTC/USD  46449.615556  47671.862805   \n",
       "3  1641168000000  2022-01-03 00:00:00  BTC/USD  47304.235105  47578.000000   \n",
       "4  1641081600000  2022-01-02 00:00:00  BTC/USD  47746.000000  48012.000000   \n",
       "\n",
       "       low    close    Volume USD   Volume BTC  \n",
       "0  43290.0  43556.0  3.132490e+06    71.918690  \n",
       "1  42505.0  43455.0  3.012357e+08  6932.129532  \n",
       "2  45568.0  45834.0  1.736399e+08  3788.452350  \n",
       "3  45689.0  46448.0  1.197406e+08  2577.950091  \n",
       "4  46648.0  47302.0  8.725996e+07  1844.741551  "
      ]
     },
     "execution_count": 2,
     "metadata": {},
     "output_type": "execute_result"
    }
   ],
   "source": [
    "#file_name = \"Binance_BTCUSDT_1h.csv\" # 1 hour data\n",
    "#file_name = \"COINBASE_BTCUSD, 240.csv\" # 4 hour data\n",
    "file_name = \"Bitfinex_BTCUSD_d\\.csv\" # 1 day data\n",
    "data = pd.read_csv(\"data/1. Original data/\"+file_name)\n",
    "data.head()"
   ]
  },
  {
   "cell_type": "markdown",
   "id": "e64dbf26",
   "metadata": {},
   "source": [
    "## Missing values"
   ]
  },
  {
   "cell_type": "code",
   "execution_count": 3,
   "id": "d6bc9da2",
   "metadata": {},
   "outputs": [
    {
     "data": {
      "text/plain": [
       "unix          0\n",
       "date          0\n",
       "symbol        0\n",
       "open          0\n",
       "high          0\n",
       "low           0\n",
       "close         0\n",
       "Volume USD    0\n",
       "Volume BTC    0\n",
       "dtype: int64"
      ]
     },
     "execution_count": 3,
     "metadata": {},
     "output_type": "execute_result"
    }
   ],
   "source": [
    "data.isnull().sum()"
   ]
  },
  {
   "cell_type": "markdown",
   "id": "5c62f7a3",
   "metadata": {},
   "source": [
    "We wont use variable tradecount, so we can drop it"
   ]
  },
  {
   "cell_type": "code",
   "execution_count": 5,
   "id": "7033ddac",
   "metadata": {},
   "outputs": [],
   "source": [
    "# If we are using 1H and 1day then we use this format\n",
    "data = data[['unix', 'date', 'symbol', 'open', 'high', 'low', 'close', 'Volume BTC']]\n",
    "\n",
    "\n",
    "# If we are using 4H data then we use this format\n",
    "#data = data[['time', 'open', 'high', 'low', 'close', 'Volume']]\n",
    "#data.rename({'time': 'unix', 'Volume': 'Volume BTC'}, axis=1, inplace=True)\n",
    "#data[\"symbol\"] = \"BTC/USDT\""
   ]
  },
  {
   "cell_type": "markdown",
   "id": "47a49057",
   "metadata": {},
   "source": [
    "## Sort values"
   ]
  },
  {
   "cell_type": "code",
   "execution_count": 6,
   "id": "32fb8735",
   "metadata": {
    "ExecuteTime": {
     "end_time": "2022-01-20T08:56:50.405222Z",
     "start_time": "2022-01-20T08:56:50.379541Z"
    }
   },
   "outputs": [
    {
     "name": "stderr",
     "output_type": "stream",
     "text": [
      "/var/folders/q4/7jv79_fs2qb85n7v34tqyj040000gn/T/ipykernel_2972/3227026997.py:2: SettingWithCopyWarning: \n",
      "A value is trying to be set on a copy of a slice from a DataFrame\n",
      "\n",
      "See the caveats in the documentation: https://pandas.pydata.org/pandas-docs/stable/user_guide/indexing.html#returning-a-view-versus-a-copy\n",
      "  data.sort_values(by = ['unix'], inplace = True)\n"
     ]
    },
    {
     "data": {
      "text/html": [
       "<div>\n",
       "<style scoped>\n",
       "    .dataframe tbody tr th:only-of-type {\n",
       "        vertical-align: middle;\n",
       "    }\n",
       "\n",
       "    .dataframe tbody tr th {\n",
       "        vertical-align: top;\n",
       "    }\n",
       "\n",
       "    .dataframe thead th {\n",
       "        text-align: right;\n",
       "    }\n",
       "</style>\n",
       "<table border=\"1\" class=\"dataframe\">\n",
       "  <thead>\n",
       "    <tr style=\"text-align: right;\">\n",
       "      <th></th>\n",
       "      <th>index</th>\n",
       "      <th>unix</th>\n",
       "      <th>date</th>\n",
       "      <th>symbol</th>\n",
       "      <th>open</th>\n",
       "      <th>high</th>\n",
       "      <th>low</th>\n",
       "      <th>close</th>\n",
       "      <th>Volume BTC</th>\n",
       "    </tr>\n",
       "  </thead>\n",
       "  <tbody>\n",
       "    <tr>\n",
       "      <th>0</th>\n",
       "      <td>2523</td>\n",
       "      <td>1423440000</td>\n",
       "      <td>2015-02-09 00:00:00</td>\n",
       "      <td>BTC/USD</td>\n",
       "      <td>224.220000</td>\n",
       "      <td>225.000000</td>\n",
       "      <td>215.40</td>\n",
       "      <td>220.61</td>\n",
       "      <td>29625.030000</td>\n",
       "    </tr>\n",
       "    <tr>\n",
       "      <th>1</th>\n",
       "      <td>2522</td>\n",
       "      <td>1423526400</td>\n",
       "      <td>2015-02-10 00:00:00</td>\n",
       "      <td>BTC/USD</td>\n",
       "      <td>220.610000</td>\n",
       "      <td>223.880000</td>\n",
       "      <td>214.00</td>\n",
       "      <td>220.96</td>\n",
       "      <td>29268.950000</td>\n",
       "    </tr>\n",
       "    <tr>\n",
       "      <th>2</th>\n",
       "      <td>2521</td>\n",
       "      <td>1423612800</td>\n",
       "      <td>2015-02-11 00:00:00</td>\n",
       "      <td>BTC/USD</td>\n",
       "      <td>220.960000</td>\n",
       "      <td>224.400000</td>\n",
       "      <td>218.10</td>\n",
       "      <td>219.19</td>\n",
       "      <td>19289.280000</td>\n",
       "    </tr>\n",
       "    <tr>\n",
       "      <th>3</th>\n",
       "      <td>2520</td>\n",
       "      <td>1423699200</td>\n",
       "      <td>2015-02-12 00:00:00</td>\n",
       "      <td>BTC/USD</td>\n",
       "      <td>219.190000</td>\n",
       "      <td>223.200000</td>\n",
       "      <td>217.87</td>\n",
       "      <td>222.60</td>\n",
       "      <td>11190.650000</td>\n",
       "    </tr>\n",
       "    <tr>\n",
       "      <th>4</th>\n",
       "      <td>2519</td>\n",
       "      <td>1423785600</td>\n",
       "      <td>2015-02-13 00:00:00</td>\n",
       "      <td>BTC/USD</td>\n",
       "      <td>222.390000</td>\n",
       "      <td>241.760000</td>\n",
       "      <td>221.46</td>\n",
       "      <td>236.00</td>\n",
       "      <td>29079.110000</td>\n",
       "    </tr>\n",
       "    <tr>\n",
       "      <th>...</th>\n",
       "      <td>...</td>\n",
       "      <td>...</td>\n",
       "      <td>...</td>\n",
       "      <td>...</td>\n",
       "      <td>...</td>\n",
       "      <td>...</td>\n",
       "      <td>...</td>\n",
       "      <td>...</td>\n",
       "      <td>...</td>\n",
       "    </tr>\n",
       "    <tr>\n",
       "      <th>2519</th>\n",
       "      <td>4</td>\n",
       "      <td>1641081600000</td>\n",
       "      <td>2022-01-02 00:00:00</td>\n",
       "      <td>BTC/USD</td>\n",
       "      <td>47746.000000</td>\n",
       "      <td>48012.000000</td>\n",
       "      <td>46648.00</td>\n",
       "      <td>47302.00</td>\n",
       "      <td>1844.741551</td>\n",
       "    </tr>\n",
       "    <tr>\n",
       "      <th>2520</th>\n",
       "      <td>3</td>\n",
       "      <td>1641168000000</td>\n",
       "      <td>2022-01-03 00:00:00</td>\n",
       "      <td>BTC/USD</td>\n",
       "      <td>47304.235105</td>\n",
       "      <td>47578.000000</td>\n",
       "      <td>45689.00</td>\n",
       "      <td>46448.00</td>\n",
       "      <td>2577.950091</td>\n",
       "    </tr>\n",
       "    <tr>\n",
       "      <th>2521</th>\n",
       "      <td>2</td>\n",
       "      <td>1641254400000</td>\n",
       "      <td>2022-01-04 00:00:00</td>\n",
       "      <td>BTC/USD</td>\n",
       "      <td>46449.615556</td>\n",
       "      <td>47671.862805</td>\n",
       "      <td>45568.00</td>\n",
       "      <td>45834.00</td>\n",
       "      <td>3788.452350</td>\n",
       "    </tr>\n",
       "    <tr>\n",
       "      <th>2522</th>\n",
       "      <td>1</td>\n",
       "      <td>1641340800000</td>\n",
       "      <td>2022-01-05 00:00:00</td>\n",
       "      <td>BTC/USD</td>\n",
       "      <td>45830.000000</td>\n",
       "      <td>47058.000000</td>\n",
       "      <td>42505.00</td>\n",
       "      <td>43455.00</td>\n",
       "      <td>6932.129532</td>\n",
       "    </tr>\n",
       "    <tr>\n",
       "      <th>2523</th>\n",
       "      <td>0</td>\n",
       "      <td>1641427200000</td>\n",
       "      <td>2022-01-06 00:00:00</td>\n",
       "      <td>BTC/USD</td>\n",
       "      <td>43457.000000</td>\n",
       "      <td>43579.000000</td>\n",
       "      <td>43290.00</td>\n",
       "      <td>43556.00</td>\n",
       "      <td>71.918690</td>\n",
       "    </tr>\n",
       "  </tbody>\n",
       "</table>\n",
       "<p>2524 rows × 9 columns</p>\n",
       "</div>"
      ],
      "text/plain": [
       "      index           unix                 date   symbol          open  \\\n",
       "0      2523     1423440000  2015-02-09 00:00:00  BTC/USD    224.220000   \n",
       "1      2522     1423526400  2015-02-10 00:00:00  BTC/USD    220.610000   \n",
       "2      2521     1423612800  2015-02-11 00:00:00  BTC/USD    220.960000   \n",
       "3      2520     1423699200  2015-02-12 00:00:00  BTC/USD    219.190000   \n",
       "4      2519     1423785600  2015-02-13 00:00:00  BTC/USD    222.390000   \n",
       "...     ...            ...                  ...      ...           ...   \n",
       "2519      4  1641081600000  2022-01-02 00:00:00  BTC/USD  47746.000000   \n",
       "2520      3  1641168000000  2022-01-03 00:00:00  BTC/USD  47304.235105   \n",
       "2521      2  1641254400000  2022-01-04 00:00:00  BTC/USD  46449.615556   \n",
       "2522      1  1641340800000  2022-01-05 00:00:00  BTC/USD  45830.000000   \n",
       "2523      0  1641427200000  2022-01-06 00:00:00  BTC/USD  43457.000000   \n",
       "\n",
       "              high       low     close    Volume BTC  \n",
       "0       225.000000    215.40    220.61  29625.030000  \n",
       "1       223.880000    214.00    220.96  29268.950000  \n",
       "2       224.400000    218.10    219.19  19289.280000  \n",
       "3       223.200000    217.87    222.60  11190.650000  \n",
       "4       241.760000    221.46    236.00  29079.110000  \n",
       "...            ...       ...       ...           ...  \n",
       "2519  48012.000000  46648.00  47302.00   1844.741551  \n",
       "2520  47578.000000  45689.00  46448.00   2577.950091  \n",
       "2521  47671.862805  45568.00  45834.00   3788.452350  \n",
       "2522  47058.000000  42505.00  43455.00   6932.129532  \n",
       "2523  43579.000000  43290.00  43556.00     71.918690  \n",
       "\n",
       "[2524 rows x 9 columns]"
      ]
     },
     "execution_count": 6,
     "metadata": {},
     "output_type": "execute_result"
    }
   ],
   "source": [
    "# sort the values by symbol and then date\n",
    "data.sort_values(by = ['unix'], inplace = True)\n",
    "data = data.reset_index()\n",
    "data"
   ]
  },
  {
   "cell_type": "markdown",
   "id": "7c2f4511",
   "metadata": {},
   "source": [
    "## X1"
   ]
  },
  {
   "cell_type": "code",
   "execution_count": 7,
   "id": "9ea8f759",
   "metadata": {
    "ExecuteTime": {
     "end_time": "2022-01-20T08:56:52.616142Z",
     "start_time": "2022-01-20T08:56:51.829291Z"
    }
   },
   "outputs": [
    {
     "name": "stderr",
     "output_type": "stream",
     "text": [
      "/var/folders/q4/7jv79_fs2qb85n7v34tqyj040000gn/T/ipykernel_2972/129941039.py:8: SettingWithCopyWarning: \n",
      "A value is trying to be set on a copy of a slice from a DataFrame.\n",
      "Try using .loc[row_indexer,col_indexer] = value instead\n",
      "\n",
      "See the caveats in the documentation: https://pandas.pydata.org/pandas-docs/stable/user_guide/indexing.html#returning-a-view-versus-a-copy\n",
      "  data[\"X1\"] = X1\n"
     ]
    }
   ],
   "source": [
    "# X1 = (x(t) − x(t − 1))/x(t − 1)\n",
    "X1 = []\n",
    "for i in range(1, len(data)):\n",
    "    temp = (data[\"close\"].iloc[i] - data[\"close\"].iloc[i-1]) / data[\"close\"].iloc[i-1]\n",
    "    X1.append(temp)\n",
    "\n",
    "data = data[1:]\n",
    "data[\"X1\"] = X1"
   ]
  },
  {
   "cell_type": "markdown",
   "id": "bd28448b",
   "metadata": {},
   "source": [
    "## X2"
   ]
  },
  {
   "cell_type": "code",
   "execution_count": 8,
   "id": "00ac7b8a",
   "metadata": {
    "ExecuteTime": {
     "end_time": "2022-01-20T08:56:52.797016Z",
     "start_time": "2022-01-20T08:56:52.792994Z"
    }
   },
   "outputs": [
    {
     "name": "stderr",
     "output_type": "stream",
     "text": [
      "/var/folders/q4/7jv79_fs2qb85n7v34tqyj040000gn/T/ipykernel_2972/2824311299.py:2: SettingWithCopyWarning: \n",
      "A value is trying to be set on a copy of a slice from a DataFrame.\n",
      "Try using .loc[row_indexer,col_indexer] = value instead\n",
      "\n",
      "See the caveats in the documentation: https://pandas.pydata.org/pandas-docs/stable/user_guide/indexing.html#returning-a-view-versus-a-copy\n",
      "  data[\"X2\"] = (data[\"close\"] - data[\"low\"]) / (data[\"high\"] - data[\"low\"])\n"
     ]
    }
   ],
   "source": [
    "# X2 = (x(t) − xl(t))/xh(t) − xl(t)\n",
    "data[\"X2\"] = (data[\"close\"] - data[\"low\"]) / (data[\"high\"] - data[\"low\"])"
   ]
  },
  {
   "cell_type": "markdown",
   "id": "794ca959",
   "metadata": {},
   "source": [
    "## Sma 50"
   ]
  },
  {
   "cell_type": "code",
   "execution_count": 9,
   "id": "c92cbb12",
   "metadata": {
    "ExecuteTime": {
     "end_time": "2022-01-20T08:56:53.568464Z",
     "start_time": "2022-01-20T08:56:53.549925Z"
    }
   },
   "outputs": [
    {
     "name": "stderr",
     "output_type": "stream",
     "text": [
      "/var/folders/q4/7jv79_fs2qb85n7v34tqyj040000gn/T/ipykernel_2972/2937749957.py:1: SettingWithCopyWarning: \n",
      "A value is trying to be set on a copy of a slice from a DataFrame.\n",
      "Try using .loc[row_indexer,col_indexer] = value instead\n",
      "\n",
      "See the caveats in the documentation: https://pandas.pydata.org/pandas-docs/stable/user_guide/indexing.html#returning-a-view-versus-a-copy\n",
      "  data[\"SMA_50\"] = data[\"close\"].rolling(window=50).mean()\n",
      "/var/folders/q4/7jv79_fs2qb85n7v34tqyj040000gn/T/ipykernel_2972/2937749957.py:2: SettingWithCopyWarning: \n",
      "A value is trying to be set on a copy of a slice from a DataFrame.\n",
      "Try using .loc[row_indexer,col_indexer] = value instead\n",
      "\n",
      "See the caveats in the documentation: https://pandas.pydata.org/pandas-docs/stable/user_guide/indexing.html#returning-a-view-versus-a-copy\n",
      "  data[\"SMA_50_vol\"] = data[\"Volume BTC\"].rolling(window=50).mean()\n"
     ]
    }
   ],
   "source": [
    "data[\"SMA_50\"] = data[\"close\"].rolling(window=50).mean()\n",
    "data[\"SMA_50_vol\"] = data[\"Volume BTC\"].rolling(window=50).mean()"
   ]
  },
  {
   "cell_type": "markdown",
   "id": "029a0dea",
   "metadata": {},
   "source": [
    "## Sma 200"
   ]
  },
  {
   "cell_type": "code",
   "execution_count": 10,
   "id": "a1dc0077",
   "metadata": {
    "ExecuteTime": {
     "end_time": "2022-01-20T08:56:54.006407Z",
     "start_time": "2022-01-20T08:56:53.984733Z"
    }
   },
   "outputs": [
    {
     "name": "stderr",
     "output_type": "stream",
     "text": [
      "/var/folders/q4/7jv79_fs2qb85n7v34tqyj040000gn/T/ipykernel_2972/1946598897.py:1: SettingWithCopyWarning: \n",
      "A value is trying to be set on a copy of a slice from a DataFrame.\n",
      "Try using .loc[row_indexer,col_indexer] = value instead\n",
      "\n",
      "See the caveats in the documentation: https://pandas.pydata.org/pandas-docs/stable/user_guide/indexing.html#returning-a-view-versus-a-copy\n",
      "  data[\"SMA_200\"] = data[\"close\"].rolling(window=200).mean()\n",
      "/var/folders/q4/7jv79_fs2qb85n7v34tqyj040000gn/T/ipykernel_2972/1946598897.py:2: SettingWithCopyWarning: \n",
      "A value is trying to be set on a copy of a slice from a DataFrame.\n",
      "Try using .loc[row_indexer,col_indexer] = value instead\n",
      "\n",
      "See the caveats in the documentation: https://pandas.pydata.org/pandas-docs/stable/user_guide/indexing.html#returning-a-view-versus-a-copy\n",
      "  data[\"SMA_200_vol\"] = data[\"Volume BTC\"].rolling(window=200).mean()\n"
     ]
    }
   ],
   "source": [
    "data[\"SMA_200\"] = data[\"close\"].rolling(window=200).mean()\n",
    "data[\"SMA_200_vol\"] = data[\"Volume BTC\"].rolling(window=200).mean()"
   ]
  },
  {
   "cell_type": "markdown",
   "id": "4236c7ba",
   "metadata": {
    "ExecuteTime": {
     "end_time": "2021-12-17T17:18:23.133940Z",
     "start_time": "2021-12-17T17:18:23.117375Z"
    }
   },
   "source": [
    "## X3"
   ]
  },
  {
   "cell_type": "code",
   "execution_count": 11,
   "id": "50e0f30e",
   "metadata": {
    "ExecuteTime": {
     "end_time": "2022-01-20T08:56:57.597492Z",
     "start_time": "2022-01-20T08:56:54.384072Z"
    }
   },
   "outputs": [],
   "source": [
    "# X3 = (MA(t) − MA(t − 1))/MA(t − 1)\n",
    "# Short term\n",
    "X3_1 = []\n",
    "for i in range(1, len(data)):\n",
    "    temp = (data[\"SMA_50\"].iloc[i] - data[\"SMA_50\"].iloc[i-1]) / data[\"SMA_50\"].iloc[i-1]\n",
    "    X3_1.append(temp)\n",
    "\n",
    "# Long term\n",
    "X3_2 = []\n",
    "for i in range(1, len(data)):\n",
    "    temp = (data[\"SMA_200\"].iloc[i] - data[\"SMA_200\"].iloc[i-1]) / data[\"SMA_200\"].iloc[i-1]\n",
    "    X3_2.append(temp)\n",
    "    \n",
    "# Short term Volume\n",
    "X3_1_vol = []\n",
    "for i in range(1, len(data)):\n",
    "    temp = (data[\"SMA_50_vol\"].iloc[i] - data[\"SMA_50_vol\"].iloc[i-1]) / data[\"SMA_50_vol\"].iloc[i-1]\n",
    "    X3_1_vol.append(temp)\n",
    "\n",
    "# Long term Volume\n",
    "X3_2_vol = []\n",
    "for i in range(1, len(data)):\n",
    "    temp = (data[\"SMA_200_vol\"].iloc[i] - data[\"SMA_200_vol\"].iloc[i-1]) / data[\"SMA_200_vol\"].iloc[i-1]\n",
    "    X3_2_vol.append(temp)\n",
    "\n",
    "data = data[1:]\n",
    "data[\"X3_1\"] = X3_1\n",
    "data[\"X3_2\"] = X3_2\n",
    "data[\"X3_1_vol\"] = X3_1_vol\n",
    "data[\"X3_2_vol\"] = X3_2_vol"
   ]
  },
  {
   "cell_type": "markdown",
   "id": "751ddcf6",
   "metadata": {},
   "source": [
    "## X4"
   ]
  },
  {
   "cell_type": "code",
   "execution_count": 12,
   "id": "d8c9cae4",
   "metadata": {
    "ExecuteTime": {
     "end_time": "2022-01-20T08:56:57.963355Z",
     "start_time": "2022-01-20T08:56:57.941743Z"
    }
   },
   "outputs": [],
   "source": [
    "# X4 = (MAS(t) − MAL(t))/MAL(t)\n",
    "data[\"X4\"] = (data[\"SMA_50\"] - data[\"SMA_200\"]) / data[\"SMA_200\"]\n",
    "data[\"X4_vol\"] = (data[\"SMA_50_vol\"] - data[\"SMA_200_vol\"]) / data[\"SMA_200_vol\"]"
   ]
  },
  {
   "cell_type": "markdown",
   "id": "98af01c7",
   "metadata": {},
   "source": [
    "## X5"
   ]
  },
  {
   "cell_type": "code",
   "execution_count": 13,
   "id": "266a25f5",
   "metadata": {
    "ExecuteTime": {
     "end_time": "2022-01-20T08:56:57.987328Z",
     "start_time": "2022-01-20T08:56:57.964859Z"
    }
   },
   "outputs": [],
   "source": [
    "#X5 = (x(t) − MA(t))/MA(t)\n",
    "data[\"X5_1\"] = (data[\"close\"] - data[\"SMA_50\"]) / data[\"SMA_50\"]\n",
    "data[\"X5_2\"] = (data[\"close\"] - data[\"SMA_200\"]) / data[\"SMA_200\"]\n",
    "data[\"X5_1_vol\"] = (data[\"Volume BTC\"] - data[\"SMA_50_vol\"]) / data[\"SMA_50_vol\"]\n",
    "data[\"X5_2_vol\"] = (data[\"Volume BTC\"] - data[\"SMA_200_vol\"]) / data[\"SMA_200_vol\"]"
   ]
  },
  {
   "cell_type": "markdown",
   "id": "9bdd9181",
   "metadata": {},
   "source": [
    "## X6"
   ]
  },
  {
   "cell_type": "code",
   "execution_count": 14,
   "id": "d05ac200",
   "metadata": {
    "ExecuteTime": {
     "end_time": "2022-01-20T08:57:02.227738Z",
     "start_time": "2022-01-20T08:56:58.669764Z"
    }
   },
   "outputs": [],
   "source": [
    "# X6 = x(t) − min(x(t), x(t − 1), . . . , x(t − 5))\n",
    "X6 = []\n",
    "for i in range(5, len(data)):\n",
    "    temp = data[\"close\"].iloc[i] - min(data[\"close\"].iloc[i], data[\"close\"].iloc[i-1], data[\"close\"].iloc[i-2], \n",
    "               data[\"close\"].iloc[i-3], data[\"close\"].iloc[i-4], data[\"close\"].iloc[i-5])\n",
    "    X6.append(temp)\n",
    "    \n",
    "X6_vol = []\n",
    "for i in range(5, len(data)):\n",
    "    temp = data[\"Volume BTC\"].iloc[i] - min(data[\"Volume BTC\"].iloc[i], data[\"Volume BTC\"].iloc[i-1], data[\"Volume BTC\"].iloc[i-2], \n",
    "               data[\"Volume BTC\"].iloc[i-3], data[\"Volume BTC\"].iloc[i-4], data[\"Volume BTC\"].iloc[i-5])\n",
    "    X6_vol.append(temp)\n",
    "    \n",
    "data = data[5:]\n",
    "data[\"X6\"] = X6\n",
    "data[\"X6_vol\"] = X6_vol"
   ]
  },
  {
   "cell_type": "markdown",
   "id": "9300d640",
   "metadata": {},
   "source": [
    "## X7"
   ]
  },
  {
   "cell_type": "code",
   "execution_count": 15,
   "id": "3eb755b9",
   "metadata": {
    "ExecuteTime": {
     "end_time": "2022-01-20T08:57:06.013776Z",
     "start_time": "2022-01-20T08:57:02.622961Z"
    }
   },
   "outputs": [],
   "source": [
    "# X7 = x(t) − max(x(t), x(t − 1), . . . , x(t − 5))\n",
    "X7 = []\n",
    "for i in range(5, len(data)):\n",
    "    temp = data[\"close\"].iloc[i] - max(data[\"close\"].iloc[i], data[\"close\"].iloc[i-1], data[\"close\"].iloc[i-2], \n",
    "               data[\"close\"].iloc[i-3], data[\"close\"].iloc[i-4], data[\"close\"].iloc[i-5])\n",
    "    X7.append(temp)\n",
    "\n",
    "X7_vol = []\n",
    "for i in range(5, len(data)):\n",
    "    temp = data[\"Volume BTC\"].iloc[i] - max(data[\"Volume BTC\"].iloc[i], data[\"Volume BTC\"].iloc[i-1], data[\"Volume BTC\"].iloc[i-2], \n",
    "               data[\"Volume BTC\"].iloc[i-3], data[\"Volume BTC\"].iloc[i-4], data[\"Volume BTC\"].iloc[i-5])\n",
    "    X7_vol.append(temp)\n",
    "    \n",
    "data = data[5:]\n",
    "data[\"X7\"] = X7\n",
    "data[\"X7_vol\"] = X7_vol"
   ]
  },
  {
   "cell_type": "markdown",
   "id": "e0ba70dd",
   "metadata": {
    "ExecuteTime": {
     "end_time": "2021-12-17T17:44:01.674582Z",
     "start_time": "2021-12-17T17:44:01.672093Z"
    }
   },
   "source": [
    "## X8, X9"
   ]
  },
  {
   "cell_type": "code",
   "execution_count": 16,
   "id": "8db1c6ec",
   "metadata": {
    "ExecuteTime": {
     "end_time": "2022-01-20T08:57:06.471517Z",
     "start_time": "2022-01-20T08:57:06.466261Z"
    }
   },
   "outputs": [
    {
     "data": {
      "text/plain": [
       "12      False\n",
       "13      False\n",
       "14      False\n",
       "15      False\n",
       "16      False\n",
       "        ...  \n",
       "2519     True\n",
       "2520     True\n",
       "2521     True\n",
       "2522     True\n",
       "2523     True\n",
       "Length: 2512, dtype: bool"
      ]
     },
     "execution_count": 16,
     "metadata": {},
     "output_type": "execute_result"
    }
   ],
   "source": [
    "data[\"SMA_50\"] > data[\"SMA_200\"]"
   ]
  },
  {
   "cell_type": "code",
   "execution_count": 17,
   "id": "4fad34ad",
   "metadata": {
    "ExecuteTime": {
     "end_time": "2022-01-20T08:57:26.592363Z",
     "start_time": "2022-01-20T08:57:06.906714Z"
    }
   },
   "outputs": [
    {
     "name": "stderr",
     "output_type": "stream",
     "text": [
      "/var/folders/q4/7jv79_fs2qb85n7v34tqyj040000gn/T/ipykernel_2972/345647904.py:15: SettingWithCopyWarning: \n",
      "A value is trying to be set on a copy of a slice from a DataFrame\n",
      "\n",
      "See the caveats in the documentation: https://pandas.pydata.org/pandas-docs/stable/user_guide/indexing.html#returning-a-view-versus-a-copy\n",
      "  data[\"Golden_cross\"].iloc[i] = sma_50\n",
      "/var/folders/q4/7jv79_fs2qb85n7v34tqyj040000gn/T/ipykernel_2972/345647904.py:16: SettingWithCopyWarning: \n",
      "A value is trying to be set on a copy of a slice from a DataFrame\n",
      "\n",
      "See the caveats in the documentation: https://pandas.pydata.org/pandas-docs/stable/user_guide/indexing.html#returning-a-view-versus-a-copy\n",
      "  data[\"Dead_cross\"].iloc[i] = sma_200\n",
      "/var/folders/q4/7jv79_fs2qb85n7v34tqyj040000gn/T/ipykernel_2972/345647904.py:10: SettingWithCopyWarning: \n",
      "A value is trying to be set on a copy of a slice from a DataFrame\n",
      "\n",
      "See the caveats in the documentation: https://pandas.pydata.org/pandas-docs/stable/user_guide/indexing.html#returning-a-view-versus-a-copy\n",
      "  data[\"Golden_cross\"].iloc[i] = sma_50\n",
      "/var/folders/q4/7jv79_fs2qb85n7v34tqyj040000gn/T/ipykernel_2972/345647904.py:11: SettingWithCopyWarning: \n",
      "A value is trying to be set on a copy of a slice from a DataFrame\n",
      "\n",
      "See the caveats in the documentation: https://pandas.pydata.org/pandas-docs/stable/user_guide/indexing.html#returning-a-view-versus-a-copy\n",
      "  data[\"Dead_cross\"].iloc[i] = sma_200\n"
     ]
    }
   ],
   "source": [
    "sma_50 = 0 # Golden cross\n",
    "sma_200 = 0 # Dead cross\n",
    "data[\"Golden_cross\"] = 0\n",
    "data[\"Dead_cross\"] = 0\n",
    "\n",
    "for i in range(0, len(data)):\n",
    "    if data[\"SMA_50\"].iloc[i] > data[\"SMA_200\"].iloc[i]:\n",
    "        sma_200 = 0\n",
    "        sma_50 += 1\n",
    "        data[\"Golden_cross\"].iloc[i] = sma_50\n",
    "        data[\"Dead_cross\"].iloc[i] = sma_200\n",
    "    else:\n",
    "        sma_50 = 0\n",
    "        sma_200 += 1\n",
    "        data[\"Golden_cross\"].iloc[i] = sma_50\n",
    "        data[\"Dead_cross\"].iloc[i] = sma_200\n",
    "\n",
    "data[\"X8\"] = data[\"Golden_cross\"]\n",
    "data[\"X9\"] = data[\"Dead_cross\"]"
   ]
  },
  {
   "cell_type": "code",
   "execution_count": 18,
   "id": "4590e79f",
   "metadata": {
    "ExecuteTime": {
     "end_time": "2022-01-20T08:57:47.621680Z",
     "start_time": "2022-01-20T08:57:27.038070Z"
    }
   },
   "outputs": [
    {
     "name": "stderr",
     "output_type": "stream",
     "text": [
      "/var/folders/q4/7jv79_fs2qb85n7v34tqyj040000gn/T/ipykernel_2972/169074001.py:15: SettingWithCopyWarning: \n",
      "A value is trying to be set on a copy of a slice from a DataFrame\n",
      "\n",
      "See the caveats in the documentation: https://pandas.pydata.org/pandas-docs/stable/user_guide/indexing.html#returning-a-view-versus-a-copy\n",
      "  data[\"Golden_cross_vol\"].iloc[i] = sma_50\n",
      "/var/folders/q4/7jv79_fs2qb85n7v34tqyj040000gn/T/ipykernel_2972/169074001.py:16: SettingWithCopyWarning: \n",
      "A value is trying to be set on a copy of a slice from a DataFrame\n",
      "\n",
      "See the caveats in the documentation: https://pandas.pydata.org/pandas-docs/stable/user_guide/indexing.html#returning-a-view-versus-a-copy\n",
      "  data[\"Dead_cross_vol\"].iloc[i] = sma_200\n",
      "/var/folders/q4/7jv79_fs2qb85n7v34tqyj040000gn/T/ipykernel_2972/169074001.py:10: SettingWithCopyWarning: \n",
      "A value is trying to be set on a copy of a slice from a DataFrame\n",
      "\n",
      "See the caveats in the documentation: https://pandas.pydata.org/pandas-docs/stable/user_guide/indexing.html#returning-a-view-versus-a-copy\n",
      "  data[\"Golden_cross_vol\"].iloc[i] = sma_50\n",
      "/var/folders/q4/7jv79_fs2qb85n7v34tqyj040000gn/T/ipykernel_2972/169074001.py:11: SettingWithCopyWarning: \n",
      "A value is trying to be set on a copy of a slice from a DataFrame\n",
      "\n",
      "See the caveats in the documentation: https://pandas.pydata.org/pandas-docs/stable/user_guide/indexing.html#returning-a-view-versus-a-copy\n",
      "  data[\"Dead_cross_vol\"].iloc[i] = sma_200\n"
     ]
    }
   ],
   "source": [
    "sma_50_vol = 0 # Golden cross\n",
    "sma_200_vol = 0 # Dead cross\n",
    "data[\"Golden_cross_vol\"] = 0\n",
    "data[\"Dead_cross_vol\"] = 0\n",
    "\n",
    "for i in range(0, len(data)):\n",
    "    if data[\"SMA_50_vol\"].iloc[i] > data[\"SMA_200_vol\"].iloc[i]:\n",
    "        sma_200 = 0\n",
    "        sma_50 += 1\n",
    "        data[\"Golden_cross_vol\"].iloc[i] = sma_50\n",
    "        data[\"Dead_cross_vol\"].iloc[i] = sma_200\n",
    "    else:\n",
    "        sma_50 = 0\n",
    "        sma_200 += 1\n",
    "        data[\"Golden_cross_vol\"].iloc[i] = sma_50\n",
    "        data[\"Dead_cross_vol\"].iloc[i] = sma_200\n",
    "\n",
    "data[\"X8_vol\"] = data[\"Golden_cross_vol\"]\n",
    "data[\"X9_vol\"] = data[\"Dead_cross_vol\"]"
   ]
  },
  {
   "cell_type": "markdown",
   "id": "ce933b58",
   "metadata": {},
   "source": [
    "## X10"
   ]
  },
  {
   "cell_type": "code",
   "execution_count": 19,
   "id": "e84d22fc",
   "metadata": {
    "ExecuteTime": {
     "end_time": "2022-01-20T08:57:48.095123Z",
     "start_time": "2022-01-20T08:57:48.090516Z"
    }
   },
   "outputs": [
    {
     "data": {
      "text/plain": [
       "12     -0.001751\n",
       "13     -0.034721\n",
       "14      0.013272\n",
       "15     -0.000209\n",
       "16     -0.007009\n",
       "          ...   \n",
       "2519   -0.009299\n",
       "2520   -0.018101\n",
       "2521   -0.013253\n",
       "2522   -0.051822\n",
       "2523    0.002278\n",
       "Length: 2512, dtype: float64"
      ]
     },
     "execution_count": 19,
     "metadata": {},
     "output_type": "execute_result"
    }
   ],
   "source": [
    "(data[\"close\"] / data[\"open\"] ) -1"
   ]
  },
  {
   "cell_type": "code",
   "execution_count": 20,
   "id": "34ea0eed",
   "metadata": {
    "ExecuteTime": {
     "end_time": "2022-01-20T08:58:09.513470Z",
     "start_time": "2022-01-20T08:57:48.600110Z"
    }
   },
   "outputs": [
    {
     "name": "stderr",
     "output_type": "stream",
     "text": [
      "/var/folders/q4/7jv79_fs2qb85n7v34tqyj040000gn/T/ipykernel_2972/1808392782.py:15: SettingWithCopyWarning: \n",
      "A value is trying to be set on a copy of a slice from a DataFrame\n",
      "\n",
      "See the caveats in the documentation: https://pandas.pydata.org/pandas-docs/stable/user_guide/indexing.html#returning-a-view-versus-a-copy\n",
      "  data[\"Up_Days_Profit\"].iloc[i] = up_days_profit\n",
      "/var/folders/q4/7jv79_fs2qb85n7v34tqyj040000gn/T/ipykernel_2972/1808392782.py:16: SettingWithCopyWarning: \n",
      "A value is trying to be set on a copy of a slice from a DataFrame\n",
      "\n",
      "See the caveats in the documentation: https://pandas.pydata.org/pandas-docs/stable/user_guide/indexing.html#returning-a-view-versus-a-copy\n",
      "  data[\"Down_Days_Profit\"].iloc[i] = down_days_profit\n",
      "/var/folders/q4/7jv79_fs2qb85n7v34tqyj040000gn/T/ipykernel_2972/1808392782.py:10: SettingWithCopyWarning: \n",
      "A value is trying to be set on a copy of a slice from a DataFrame\n",
      "\n",
      "See the caveats in the documentation: https://pandas.pydata.org/pandas-docs/stable/user_guide/indexing.html#returning-a-view-versus-a-copy\n",
      "  data[\"Up_Days_Profit\"].iloc[i] = up_days_profit\n",
      "/var/folders/q4/7jv79_fs2qb85n7v34tqyj040000gn/T/ipykernel_2972/1808392782.py:11: SettingWithCopyWarning: \n",
      "A value is trying to be set on a copy of a slice from a DataFrame\n",
      "\n",
      "See the caveats in the documentation: https://pandas.pydata.org/pandas-docs/stable/user_guide/indexing.html#returning-a-view-versus-a-copy\n",
      "  data[\"Down_Days_Profit\"].iloc[i] = down_days_profit\n"
     ]
    }
   ],
   "source": [
    "up_days_profit = 0.0\n",
    "down_days_profit = 0.0\n",
    "data[\"Up_Days_Profit\"] = 0.0\n",
    "data[\"Down_Days_Profit\"] = 0.0\n",
    "\n",
    "for i in range(0, len(data)):\n",
    "    if data[\"close\"].iloc[i] > data[\"open\"].iloc[i]: # UP days\n",
    "        down_days_profit = 0.0\n",
    "        up_days_profit += ((data[\"close\"].iloc[i] / data[\"open\"].iloc[i] ) -1)\n",
    "        data[\"Up_Days_Profit\"].iloc[i] = up_days_profit\n",
    "        data[\"Down_Days_Profit\"].iloc[i] = down_days_profit\n",
    "    else: # DOWN days\n",
    "        up_days_profit = 0.0\n",
    "        down_days_profit += ((data[\"close\"].iloc[i] / data[\"open\"].iloc[i] ) -1)\n",
    "        data[\"Up_Days_Profit\"].iloc[i] = up_days_profit\n",
    "        data[\"Down_Days_Profit\"].iloc[i] = down_days_profit\n",
    "\n",
    "data[\"X10_1\"] = data[\"Up_Days_Profit\"]\n",
    "data[\"X10_2\"] = data[\"Down_Days_Profit\"]"
   ]
  },
  {
   "cell_type": "markdown",
   "id": "6e487206",
   "metadata": {},
   "source": [
    "## X11"
   ]
  },
  {
   "cell_type": "code",
   "execution_count": 21,
   "id": "535a64c1",
   "metadata": {
    "ExecuteTime": {
     "end_time": "2022-01-20T08:58:32.567416Z",
     "start_time": "2022-01-20T08:58:10.395317Z"
    }
   },
   "outputs": [
    {
     "name": "stderr",
     "output_type": "stream",
     "text": [
      "/var/folders/q4/7jv79_fs2qb85n7v34tqyj040000gn/T/ipykernel_2972/975969267.py:15: SettingWithCopyWarning: \n",
      "A value is trying to be set on a copy of a slice from a DataFrame\n",
      "\n",
      "See the caveats in the documentation: https://pandas.pydata.org/pandas-docs/stable/user_guide/indexing.html#returning-a-view-versus-a-copy\n",
      "  data[\"Up_Days\"].iloc[i] = up_days\n",
      "/var/folders/q4/7jv79_fs2qb85n7v34tqyj040000gn/T/ipykernel_2972/975969267.py:16: SettingWithCopyWarning: \n",
      "A value is trying to be set on a copy of a slice from a DataFrame\n",
      "\n",
      "See the caveats in the documentation: https://pandas.pydata.org/pandas-docs/stable/user_guide/indexing.html#returning-a-view-versus-a-copy\n",
      "  data[\"Down_Days\"].iloc[i] = down_days\n",
      "/var/folders/q4/7jv79_fs2qb85n7v34tqyj040000gn/T/ipykernel_2972/975969267.py:10: SettingWithCopyWarning: \n",
      "A value is trying to be set on a copy of a slice from a DataFrame\n",
      "\n",
      "See the caveats in the documentation: https://pandas.pydata.org/pandas-docs/stable/user_guide/indexing.html#returning-a-view-versus-a-copy\n",
      "  data[\"Up_Days\"].iloc[i] = up_days\n",
      "/var/folders/q4/7jv79_fs2qb85n7v34tqyj040000gn/T/ipykernel_2972/975969267.py:11: SettingWithCopyWarning: \n",
      "A value is trying to be set on a copy of a slice from a DataFrame\n",
      "\n",
      "See the caveats in the documentation: https://pandas.pydata.org/pandas-docs/stable/user_guide/indexing.html#returning-a-view-versus-a-copy\n",
      "  data[\"Down_Days\"].iloc[i] = down_days\n"
     ]
    }
   ],
   "source": [
    "up_days = 0\n",
    "down_days = 0\n",
    "data[\"Up_Days\"] = 0\n",
    "data[\"Down_Days\"] = 0\n",
    "\n",
    "for i in range(0, len(data)):\n",
    "    if data[\"close\"].iloc[i] > data[\"open\"].iloc[i]: # UP days\n",
    "        down_days = 0\n",
    "        up_days += 1\n",
    "        data[\"Up_Days\"].iloc[i] = up_days\n",
    "        data[\"Down_Days\"].iloc[i] = down_days\n",
    "    else: # DOWN days\n",
    "        up_days = 0\n",
    "        down_days += 1\n",
    "        data[\"Up_Days\"].iloc[i] = up_days\n",
    "        data[\"Down_Days\"].iloc[i] = down_days\n",
    "\n",
    "data[\"X11_1\"] = data[\"Up_Days\"]\n",
    "data[\"X11_2\"] = data[\"Down_Days\"]"
   ]
  },
  {
   "cell_type": "markdown",
   "id": "dcc78870",
   "metadata": {},
   "source": [
    "## X12, X13"
   ]
  },
  {
   "cell_type": "markdown",
   "id": "f4f0a98a",
   "metadata": {},
   "source": [
    "MACD"
   ]
  },
  {
   "cell_type": "code",
   "execution_count": 22,
   "id": "536dbd4f",
   "metadata": {
    "ExecuteTime": {
     "end_time": "2022-01-20T08:58:33.025674Z",
     "start_time": "2022-01-20T08:58:32.998258Z"
    }
   },
   "outputs": [],
   "source": [
    "# Calculate the MACD\n",
    "ema_26 = data['close'].transform(lambda x: x.ewm(span = 26).mean())\n",
    "ema_12 = data['close'].transform(lambda x: x.ewm(span = 12).mean())\n",
    "macd = ema_12 - ema_26\n",
    "\n",
    "# Calculate the EMA\n",
    "ema_9_macd = macd.ewm(span = 9).mean()\n",
    "\n",
    "# Store the data in the data frame.\n",
    "data['MACD'] = macd\n",
    "data['MACD_EMA'] = ema_9_macd\n",
    "\n",
    "# Print the head.\n",
    "data[\"X12\"] = data[\"MACD\"]\n",
    "data[\"X13\"] = data[\"MACD_EMA\"]"
   ]
  },
  {
   "cell_type": "code",
   "execution_count": 23,
   "id": "63722b46",
   "metadata": {
    "ExecuteTime": {
     "end_time": "2022-01-20T08:58:33.055521Z",
     "start_time": "2022-01-20T08:58:33.026895Z"
    }
   },
   "outputs": [],
   "source": [
    "# Calculate the MACD\n",
    "ema_26 = data['Volume BTC'].transform(lambda x: x.ewm(span = 26).mean())\n",
    "ema_12 = data['Volume BTC'].transform(lambda x: x.ewm(span = 12).mean())\n",
    "macd = ema_12 - ema_26\n",
    "\n",
    "# Calculate the EMA\n",
    "ema_9_macd = macd.ewm(span = 9).mean()\n",
    "\n",
    "# Store the data in the data frame.\n",
    "data['MACD_vol'] = macd\n",
    "data['MACD_EMA_vol'] = ema_9_macd\n",
    "\n",
    "# Print the head.\n",
    "data[\"X12_vol\"] = data[\"MACD_vol\"]\n",
    "data[\"X13_vol\"] = data[\"MACD_EMA_vol\"]"
   ]
  },
  {
   "cell_type": "markdown",
   "id": "5bf908eb",
   "metadata": {},
   "source": [
    "## X14"
   ]
  },
  {
   "cell_type": "markdown",
   "id": "ae710e75",
   "metadata": {},
   "source": [
    "RSI"
   ]
  },
  {
   "cell_type": "code",
   "execution_count": 24,
   "id": "f165b6e2",
   "metadata": {
    "ExecuteTime": {
     "end_time": "2022-01-20T08:58:34.230839Z",
     "start_time": "2022-01-20T08:58:34.088919Z"
    }
   },
   "outputs": [],
   "source": [
    "# calculate the change in price\n",
    "data['change_in_price'] = data['close'].diff()\n",
    "data.head()\n",
    "# Calculate the 14 day RSI\n",
    "n = 14\n",
    "\n",
    "# First make a copy of the data frame twice\n",
    "up_df, down_df = data[['symbol','change_in_price']].copy(), data[['symbol','change_in_price']].copy()\n",
    "\n",
    "# For up days, if the change is less than 0 set to 0.\n",
    "up_df.loc['change_in_price'] = up_df.loc[(up_df['change_in_price'] < 0), 'change_in_price'] = 0\n",
    "\n",
    "# For down days, if the change is greater than 0 set to 0.\n",
    "down_df.loc['change_in_price'] = down_df.loc[(down_df['change_in_price'] > 0), 'change_in_price'] = 0\n",
    "\n",
    "# We need change in price to be absolute.\n",
    "down_df['change_in_price'] = down_df['change_in_price'].abs()\n",
    "\n",
    "# Calculate the EWMA (Exponential Weighted Moving Average), meaning older values are given less weight compared to newer values.\n",
    "ewma_up = up_df.groupby('symbol')['change_in_price'].transform(lambda x: x.ewm(span = n).mean())\n",
    "ewma_down = down_df.groupby('symbol')['change_in_price'].transform(lambda x: x.ewm(span = n).mean())\n",
    "\n",
    "# Calculate the Relative Strength\n",
    "relative_strength = ewma_up / ewma_down\n",
    "\n",
    "# Calculate the Relative Strength Index\n",
    "relative_strength_index = 100.0 - (100.0 / (1.0 + relative_strength))\n",
    "\n",
    "# Add the info to the data frame.\n",
    "data['down_days'] = down_df['change_in_price']\n",
    "data['up_days'] = up_df['change_in_price']\n",
    "data['RSI'] = relative_strength_index\n",
    "\n",
    "data[\"X14\"] = data[\"RSI\"]\n"
   ]
  },
  {
   "cell_type": "markdown",
   "id": "50eee8ce",
   "metadata": {},
   "source": [
    "## X15"
   ]
  },
  {
   "cell_type": "markdown",
   "id": "7af24144",
   "metadata": {},
   "source": [
    "Stochastic Oscillator"
   ]
  },
  {
   "cell_type": "code",
   "execution_count": 25,
   "id": "e0427f94",
   "metadata": {
    "ExecuteTime": {
     "end_time": "2022-01-20T08:58:34.865339Z",
     "start_time": "2022-01-20T08:58:34.796972Z"
    }
   },
   "outputs": [],
   "source": [
    "# Calculate the Stochastic Oscillator\n",
    "n = 14\n",
    "\n",
    "# Make a copy of the high and low column.\n",
    "low_14, high_14 = data[['symbol','low']].copy(), data[['symbol','high']].copy()\n",
    "\n",
    "# Group by symbol, then apply the rolling function and grab the Min and Max.\n",
    "low_14 = low_14.groupby('symbol')['low'].transform(lambda x: x.rolling(window = n).min())\n",
    "high_14 = high_14.groupby('symbol')['high'].transform(lambda x: x.rolling(window = n).max())\n",
    "\n",
    "# Calculate the Stochastic Oscillator.\n",
    "k_percent = 100 * ((data['close'] - low_14) / (high_14 - low_14))\n",
    "\n",
    "# Add the info to the data frame.\n",
    "data['low_14'] = low_14\n",
    "data['high_14'] = high_14\n",
    "data['k_percent'] = k_percent\n",
    "\n",
    "data[\"X15\"] = data[\"k_percent\"]"
   ]
  },
  {
   "cell_type": "markdown",
   "id": "0ac8ce03",
   "metadata": {},
   "source": [
    "## X16"
   ]
  },
  {
   "cell_type": "markdown",
   "id": "8e0ca1bf",
   "metadata": {},
   "source": [
    "D% = K$ ma 14"
   ]
  },
  {
   "cell_type": "code",
   "execution_count": 26,
   "id": "ab68fe1c",
   "metadata": {
    "ExecuteTime": {
     "end_time": "2022-01-20T08:58:35.366690Z",
     "start_time": "2022-01-20T08:58:35.345507Z"
    }
   },
   "outputs": [],
   "source": [
    "data[\"d_percent\"] = data[\"k_percent\"].rolling(window=14).mean()"
   ]
  },
  {
   "cell_type": "code",
   "execution_count": 27,
   "id": "193de54c",
   "metadata": {
    "ExecuteTime": {
     "end_time": "2022-01-20T08:58:35.877314Z",
     "start_time": "2022-01-20T08:58:35.859461Z"
    }
   },
   "outputs": [],
   "source": [
    "data[\"X16\"] = data[\"d_percent\"]"
   ]
  },
  {
   "cell_type": "markdown",
   "id": "09cb5886",
   "metadata": {},
   "source": [
    "## X17"
   ]
  },
  {
   "cell_type": "code",
   "execution_count": 28,
   "id": "e5ddfb4f",
   "metadata": {
    "ExecuteTime": {
     "end_time": "2022-01-20T08:58:36.843555Z",
     "start_time": "2022-01-20T08:58:36.329824Z"
    }
   },
   "outputs": [
    {
     "name": "stderr",
     "output_type": "stream",
     "text": [
      "/var/folders/q4/7jv79_fs2qb85n7v34tqyj040000gn/T/ipykernel_2972/2978392693.py:8: SettingWithCopyWarning: \n",
      "A value is trying to be set on a copy of a slice from a DataFrame.\n",
      "Try using .loc[row_indexer,col_indexer] = value instead\n",
      "\n",
      "See the caveats in the documentation: https://pandas.pydata.org/pandas-docs/stable/user_guide/indexing.html#returning-a-view-versus-a-copy\n",
      "  data[\"X17\"] = X17\n"
     ]
    }
   ],
   "source": [
    "# X17 = %K (t) − %K (t − 1 )\n",
    "#data[\"X16\"] = 0\n",
    "X17 = []\n",
    "for i in range(1, len(data)):\n",
    "    temp = data[\"k_percent\"].iloc[i] - data[\"k_percent\"].iloc[i-1]\n",
    "    X17.append(temp)\n",
    "data = data[1:]\n",
    "data[\"X17\"] = X17"
   ]
  },
  {
   "cell_type": "markdown",
   "id": "e3727c38",
   "metadata": {},
   "source": [
    "## X18"
   ]
  },
  {
   "cell_type": "code",
   "execution_count": 29,
   "id": "3b5f5e0c",
   "metadata": {
    "ExecuteTime": {
     "end_time": "2022-01-20T08:58:37.969081Z",
     "start_time": "2022-01-20T08:58:37.367511Z"
    }
   },
   "outputs": [
    {
     "name": "stderr",
     "output_type": "stream",
     "text": [
      "/var/folders/q4/7jv79_fs2qb85n7v34tqyj040000gn/T/ipykernel_2972/2572392827.py:7: SettingWithCopyWarning: \n",
      "A value is trying to be set on a copy of a slice from a DataFrame.\n",
      "Try using .loc[row_indexer,col_indexer] = value instead\n",
      "\n",
      "See the caveats in the documentation: https://pandas.pydata.org/pandas-docs/stable/user_guide/indexing.html#returning-a-view-versus-a-copy\n",
      "  data[\"X18\"] = X18\n"
     ]
    }
   ],
   "source": [
    "# X18 = %D(t) − %D(t − 1 )\n",
    "X18 = []\n",
    "for i in range(1, len(data)):\n",
    "    temp = data[\"d_percent\"].iloc[i] - data[\"d_percent\"].iloc[i-1]\n",
    "    X18.append(temp)\n",
    "data = data[1:]\n",
    "data[\"X18\"] = X18"
   ]
  },
  {
   "cell_type": "markdown",
   "id": "0b088900",
   "metadata": {},
   "source": [
    "## Target variable"
   ]
  },
  {
   "cell_type": "code",
   "execution_count": 30,
   "id": "5a028e2c",
   "metadata": {
    "ExecuteTime": {
     "end_time": "2022-01-20T08:58:39.369864Z",
     "start_time": "2022-01-20T08:58:38.632234Z"
    }
   },
   "outputs": [],
   "source": [
    "# [x(t+1)−x(t)]  /  x(t)\n",
    "target = []\n",
    "for i in range(0, len(data)-1):\n",
    "    temp = (data[\"close\"].iloc[i+1] - data[\"close\"].iloc[i]) / data[\"close\"].iloc[i]\n",
    "    target.append(temp)\n",
    "data = data[:-1]\n",
    "data[\"target\"] = target"
   ]
  },
  {
   "cell_type": "code",
   "execution_count": 31,
   "id": "7d5e8f18",
   "metadata": {
    "ExecuteTime": {
     "end_time": "2022-01-20T08:58:40.022900Z",
     "start_time": "2022-01-20T08:58:39.979622Z"
    }
   },
   "outputs": [
    {
     "data": {
      "text/html": [
       "<div>\n",
       "<style scoped>\n",
       "    .dataframe tbody tr th:only-of-type {\n",
       "        vertical-align: middle;\n",
       "    }\n",
       "\n",
       "    .dataframe tbody tr th {\n",
       "        vertical-align: top;\n",
       "    }\n",
       "\n",
       "    .dataframe thead th {\n",
       "        text-align: right;\n",
       "    }\n",
       "</style>\n",
       "<table border=\"1\" class=\"dataframe\">\n",
       "  <thead>\n",
       "    <tr style=\"text-align: right;\">\n",
       "      <th></th>\n",
       "      <th>index</th>\n",
       "      <th>unix</th>\n",
       "      <th>date</th>\n",
       "      <th>symbol</th>\n",
       "      <th>open</th>\n",
       "      <th>high</th>\n",
       "      <th>low</th>\n",
       "      <th>close</th>\n",
       "      <th>Volume BTC</th>\n",
       "      <th>X1</th>\n",
       "      <th>...</th>\n",
       "      <th>X14</th>\n",
       "      <th>low_14</th>\n",
       "      <th>high_14</th>\n",
       "      <th>k_percent</th>\n",
       "      <th>X15</th>\n",
       "      <th>d_percent</th>\n",
       "      <th>X16</th>\n",
       "      <th>X17</th>\n",
       "      <th>X18</th>\n",
       "      <th>target</th>\n",
       "    </tr>\n",
       "  </thead>\n",
       "  <tbody>\n",
       "    <tr>\n",
       "      <th>14</th>\n",
       "      <td>2509</td>\n",
       "      <td>1424649600</td>\n",
       "      <td>2015-02-23 00:00:00</td>\n",
       "      <td>BTC/USD</td>\n",
       "      <td>236.590000</td>\n",
       "      <td>241.000000</td>\n",
       "      <td>232.61</td>\n",
       "      <td>239.73</td>\n",
       "      <td>23893.090000</td>\n",
       "      <td>0.013272</td>\n",
       "      <td>...</td>\n",
       "      <td>29.861155</td>\n",
       "      <td>NaN</td>\n",
       "      <td>NaN</td>\n",
       "      <td>NaN</td>\n",
       "      <td>NaN</td>\n",
       "      <td>NaN</td>\n",
       "      <td>NaN</td>\n",
       "      <td>NaN</td>\n",
       "      <td>NaN</td>\n",
       "      <td>-0.000209</td>\n",
       "    </tr>\n",
       "    <tr>\n",
       "      <th>15</th>\n",
       "      <td>2508</td>\n",
       "      <td>1424736000</td>\n",
       "      <td>2015-02-24 00:00:00</td>\n",
       "      <td>BTC/USD</td>\n",
       "      <td>239.730000</td>\n",
       "      <td>240.990000</td>\n",
       "      <td>236.70</td>\n",
       "      <td>239.68</td>\n",
       "      <td>16784.310000</td>\n",
       "      <td>-0.000209</td>\n",
       "      <td>...</td>\n",
       "      <td>29.698216</td>\n",
       "      <td>NaN</td>\n",
       "      <td>NaN</td>\n",
       "      <td>NaN</td>\n",
       "      <td>NaN</td>\n",
       "      <td>NaN</td>\n",
       "      <td>NaN</td>\n",
       "      <td>NaN</td>\n",
       "      <td>NaN</td>\n",
       "      <td>-0.007009</td>\n",
       "    </tr>\n",
       "    <tr>\n",
       "      <th>16</th>\n",
       "      <td>2507</td>\n",
       "      <td>1424822400</td>\n",
       "      <td>2015-02-25 00:00:00</td>\n",
       "      <td>BTC/USD</td>\n",
       "      <td>239.680000</td>\n",
       "      <td>240.830000</td>\n",
       "      <td>235.53</td>\n",
       "      <td>238.00</td>\n",
       "      <td>13574.500000</td>\n",
       "      <td>-0.007009</td>\n",
       "      <td>...</td>\n",
       "      <td>24.512651</td>\n",
       "      <td>NaN</td>\n",
       "      <td>NaN</td>\n",
       "      <td>NaN</td>\n",
       "      <td>NaN</td>\n",
       "      <td>NaN</td>\n",
       "      <td>NaN</td>\n",
       "      <td>NaN</td>\n",
       "      <td>NaN</td>\n",
       "      <td>-0.004202</td>\n",
       "    </tr>\n",
       "    <tr>\n",
       "      <th>17</th>\n",
       "      <td>2506</td>\n",
       "      <td>1424908800</td>\n",
       "      <td>2015-02-26 00:00:00</td>\n",
       "      <td>BTC/USD</td>\n",
       "      <td>238.000000</td>\n",
       "      <td>238.340000</td>\n",
       "      <td>233.62</td>\n",
       "      <td>237.00</td>\n",
       "      <td>18691.430000</td>\n",
       "      <td>-0.004202</td>\n",
       "      <td>...</td>\n",
       "      <td>21.887790</td>\n",
       "      <td>NaN</td>\n",
       "      <td>NaN</td>\n",
       "      <td>NaN</td>\n",
       "      <td>NaN</td>\n",
       "      <td>NaN</td>\n",
       "      <td>NaN</td>\n",
       "      <td>NaN</td>\n",
       "      <td>NaN</td>\n",
       "      <td>0.081857</td>\n",
       "    </tr>\n",
       "    <tr>\n",
       "      <th>18</th>\n",
       "      <td>2505</td>\n",
       "      <td>1424995200</td>\n",
       "      <td>2015-02-27 00:00:00</td>\n",
       "      <td>BTC/USD</td>\n",
       "      <td>237.000000</td>\n",
       "      <td>262.800000</td>\n",
       "      <td>236.64</td>\n",
       "      <td>256.40</td>\n",
       "      <td>69269.580000</td>\n",
       "      <td>0.081857</td>\n",
       "      <td>...</td>\n",
       "      <td>77.005441</td>\n",
       "      <td>NaN</td>\n",
       "      <td>NaN</td>\n",
       "      <td>NaN</td>\n",
       "      <td>NaN</td>\n",
       "      <td>NaN</td>\n",
       "      <td>NaN</td>\n",
       "      <td>NaN</td>\n",
       "      <td>NaN</td>\n",
       "      <td>-0.002457</td>\n",
       "    </tr>\n",
       "    <tr>\n",
       "      <th>...</th>\n",
       "      <td>...</td>\n",
       "      <td>...</td>\n",
       "      <td>...</td>\n",
       "      <td>...</td>\n",
       "      <td>...</td>\n",
       "      <td>...</td>\n",
       "      <td>...</td>\n",
       "      <td>...</td>\n",
       "      <td>...</td>\n",
       "      <td>...</td>\n",
       "      <td>...</td>\n",
       "      <td>...</td>\n",
       "      <td>...</td>\n",
       "      <td>...</td>\n",
       "      <td>...</td>\n",
       "      <td>...</td>\n",
       "      <td>...</td>\n",
       "      <td>...</td>\n",
       "      <td>...</td>\n",
       "      <td>...</td>\n",
       "      <td>...</td>\n",
       "    </tr>\n",
       "    <tr>\n",
       "      <th>2518</th>\n",
       "      <td>5</td>\n",
       "      <td>1640995200000</td>\n",
       "      <td>2022-01-01 00:00:00</td>\n",
       "      <td>BTC/USD</td>\n",
       "      <td>46209.000000</td>\n",
       "      <td>47957.000000</td>\n",
       "      <td>46203.00</td>\n",
       "      <td>47747.00</td>\n",
       "      <td>2177.337470</td>\n",
       "      <td>0.033082</td>\n",
       "      <td>...</td>\n",
       "      <td>45.918504</td>\n",
       "      <td>45600.000000</td>\n",
       "      <td>52085.0</td>\n",
       "      <td>33.107170</td>\n",
       "      <td>33.107170</td>\n",
       "      <td>48.936931</td>\n",
       "      <td>48.936931</td>\n",
       "      <td>22.515887</td>\n",
       "      <td>0.869086</td>\n",
       "      <td>-0.009320</td>\n",
       "    </tr>\n",
       "    <tr>\n",
       "      <th>2519</th>\n",
       "      <td>4</td>\n",
       "      <td>1641081600000</td>\n",
       "      <td>2022-01-02 00:00:00</td>\n",
       "      <td>BTC/USD</td>\n",
       "      <td>47746.000000</td>\n",
       "      <td>48012.000000</td>\n",
       "      <td>46648.00</td>\n",
       "      <td>47302.00</td>\n",
       "      <td>1844.741551</td>\n",
       "      <td>-0.009320</td>\n",
       "      <td>...</td>\n",
       "      <td>43.216147</td>\n",
       "      <td>45600.000000</td>\n",
       "      <td>52085.0</td>\n",
       "      <td>26.245181</td>\n",
       "      <td>26.245181</td>\n",
       "      <td>49.503115</td>\n",
       "      <td>49.503115</td>\n",
       "      <td>-6.861989</td>\n",
       "      <td>0.566185</td>\n",
       "      <td>-0.018054</td>\n",
       "    </tr>\n",
       "    <tr>\n",
       "      <th>2520</th>\n",
       "      <td>3</td>\n",
       "      <td>1641168000000</td>\n",
       "      <td>2022-01-03 00:00:00</td>\n",
       "      <td>BTC/USD</td>\n",
       "      <td>47304.235105</td>\n",
       "      <td>47578.000000</td>\n",
       "      <td>45689.00</td>\n",
       "      <td>46448.00</td>\n",
       "      <td>2577.950091</td>\n",
       "      <td>-0.018054</td>\n",
       "      <td>...</td>\n",
       "      <td>38.233655</td>\n",
       "      <td>45664.143622</td>\n",
       "      <td>52085.0</td>\n",
       "      <td>12.207972</td>\n",
       "      <td>12.207972</td>\n",
       "      <td>48.848379</td>\n",
       "      <td>48.848379</td>\n",
       "      <td>-14.037209</td>\n",
       "      <td>-0.654736</td>\n",
       "      <td>-0.013219</td>\n",
       "    </tr>\n",
       "    <tr>\n",
       "      <th>2521</th>\n",
       "      <td>2</td>\n",
       "      <td>1641254400000</td>\n",
       "      <td>2022-01-04 00:00:00</td>\n",
       "      <td>BTC/USD</td>\n",
       "      <td>46449.615556</td>\n",
       "      <td>47671.862805</td>\n",
       "      <td>45568.00</td>\n",
       "      <td>45834.00</td>\n",
       "      <td>3788.452350</td>\n",
       "      <td>-0.013219</td>\n",
       "      <td>...</td>\n",
       "      <td>34.896048</td>\n",
       "      <td>45568.000000</td>\n",
       "      <td>52085.0</td>\n",
       "      <td>4.081633</td>\n",
       "      <td>4.081633</td>\n",
       "      <td>44.917790</td>\n",
       "      <td>44.917790</td>\n",
       "      <td>-8.126340</td>\n",
       "      <td>-3.930589</td>\n",
       "      <td>-0.051905</td>\n",
       "    </tr>\n",
       "    <tr>\n",
       "      <th>2522</th>\n",
       "      <td>1</td>\n",
       "      <td>1641340800000</td>\n",
       "      <td>2022-01-05 00:00:00</td>\n",
       "      <td>BTC/USD</td>\n",
       "      <td>45830.000000</td>\n",
       "      <td>47058.000000</td>\n",
       "      <td>42505.00</td>\n",
       "      <td>43455.00</td>\n",
       "      <td>6932.129532</td>\n",
       "      <td>-0.051905</td>\n",
       "      <td>...</td>\n",
       "      <td>25.100224</td>\n",
       "      <td>42505.000000</td>\n",
       "      <td>52085.0</td>\n",
       "      <td>9.916493</td>\n",
       "      <td>9.916493</td>\n",
       "      <td>41.460675</td>\n",
       "      <td>41.460675</td>\n",
       "      <td>5.834860</td>\n",
       "      <td>-3.457115</td>\n",
       "      <td>0.002324</td>\n",
       "    </tr>\n",
       "  </tbody>\n",
       "</table>\n",
       "<p>2509 rows × 67 columns</p>\n",
       "</div>"
      ],
      "text/plain": [
       "      index           unix                 date   symbol          open  \\\n",
       "14     2509     1424649600  2015-02-23 00:00:00  BTC/USD    236.590000   \n",
       "15     2508     1424736000  2015-02-24 00:00:00  BTC/USD    239.730000   \n",
       "16     2507     1424822400  2015-02-25 00:00:00  BTC/USD    239.680000   \n",
       "17     2506     1424908800  2015-02-26 00:00:00  BTC/USD    238.000000   \n",
       "18     2505     1424995200  2015-02-27 00:00:00  BTC/USD    237.000000   \n",
       "...     ...            ...                  ...      ...           ...   \n",
       "2518      5  1640995200000  2022-01-01 00:00:00  BTC/USD  46209.000000   \n",
       "2519      4  1641081600000  2022-01-02 00:00:00  BTC/USD  47746.000000   \n",
       "2520      3  1641168000000  2022-01-03 00:00:00  BTC/USD  47304.235105   \n",
       "2521      2  1641254400000  2022-01-04 00:00:00  BTC/USD  46449.615556   \n",
       "2522      1  1641340800000  2022-01-05 00:00:00  BTC/USD  45830.000000   \n",
       "\n",
       "              high       low     close    Volume BTC        X1  ...  \\\n",
       "14      241.000000    232.61    239.73  23893.090000  0.013272  ...   \n",
       "15      240.990000    236.70    239.68  16784.310000 -0.000209  ...   \n",
       "16      240.830000    235.53    238.00  13574.500000 -0.007009  ...   \n",
       "17      238.340000    233.62    237.00  18691.430000 -0.004202  ...   \n",
       "18      262.800000    236.64    256.40  69269.580000  0.081857  ...   \n",
       "...            ...       ...       ...           ...       ...  ...   \n",
       "2518  47957.000000  46203.00  47747.00   2177.337470  0.033082  ...   \n",
       "2519  48012.000000  46648.00  47302.00   1844.741551 -0.009320  ...   \n",
       "2520  47578.000000  45689.00  46448.00   2577.950091 -0.018054  ...   \n",
       "2521  47671.862805  45568.00  45834.00   3788.452350 -0.013219  ...   \n",
       "2522  47058.000000  42505.00  43455.00   6932.129532 -0.051905  ...   \n",
       "\n",
       "            X14        low_14  high_14  k_percent        X15  d_percent  \\\n",
       "14    29.861155           NaN      NaN        NaN        NaN        NaN   \n",
       "15    29.698216           NaN      NaN        NaN        NaN        NaN   \n",
       "16    24.512651           NaN      NaN        NaN        NaN        NaN   \n",
       "17    21.887790           NaN      NaN        NaN        NaN        NaN   \n",
       "18    77.005441           NaN      NaN        NaN        NaN        NaN   \n",
       "...         ...           ...      ...        ...        ...        ...   \n",
       "2518  45.918504  45600.000000  52085.0  33.107170  33.107170  48.936931   \n",
       "2519  43.216147  45600.000000  52085.0  26.245181  26.245181  49.503115   \n",
       "2520  38.233655  45664.143622  52085.0  12.207972  12.207972  48.848379   \n",
       "2521  34.896048  45568.000000  52085.0   4.081633   4.081633  44.917790   \n",
       "2522  25.100224  42505.000000  52085.0   9.916493   9.916493  41.460675   \n",
       "\n",
       "            X16        X17       X18    target  \n",
       "14          NaN        NaN       NaN -0.000209  \n",
       "15          NaN        NaN       NaN -0.007009  \n",
       "16          NaN        NaN       NaN -0.004202  \n",
       "17          NaN        NaN       NaN  0.081857  \n",
       "18          NaN        NaN       NaN -0.002457  \n",
       "...         ...        ...       ...       ...  \n",
       "2518  48.936931  22.515887  0.869086 -0.009320  \n",
       "2519  49.503115  -6.861989  0.566185 -0.018054  \n",
       "2520  48.848379 -14.037209 -0.654736 -0.013219  \n",
       "2521  44.917790  -8.126340 -3.930589 -0.051905  \n",
       "2522  41.460675   5.834860 -3.457115  0.002324  \n",
       "\n",
       "[2509 rows x 67 columns]"
      ]
     },
     "execution_count": 31,
     "metadata": {},
     "output_type": "execute_result"
    }
   ],
   "source": [
    "data"
   ]
  },
  {
   "cell_type": "markdown",
   "id": "679f2a7f",
   "metadata": {},
   "source": [
    "## Combining data"
   ]
  },
  {
   "cell_type": "code",
   "execution_count": 32,
   "id": "edb41e60",
   "metadata": {
    "ExecuteTime": {
     "end_time": "2022-01-20T08:58:40.662845Z",
     "start_time": "2022-01-20T08:58:40.659014Z"
    }
   },
   "outputs": [
    {
     "data": {
      "text/plain": [
       "Index(['index', 'unix', 'date', 'symbol', 'open', 'high', 'low', 'close',\n",
       "       'Volume BTC', 'X1', 'X2', 'SMA_50', 'SMA_50_vol', 'SMA_200',\n",
       "       'SMA_200_vol', 'X3_1', 'X3_2', 'X3_1_vol', 'X3_2_vol', 'X4', 'X4_vol',\n",
       "       'X5_1', 'X5_2', 'X5_1_vol', 'X5_2_vol', 'X6', 'X6_vol', 'X7', 'X7_vol',\n",
       "       'Golden_cross', 'Dead_cross', 'X8', 'X9', 'Golden_cross_vol',\n",
       "       'Dead_cross_vol', 'X8_vol', 'X9_vol', 'Up_Days_Profit',\n",
       "       'Down_Days_Profit', 'X10_1', 'X10_2', 'Up_Days', 'Down_Days', 'X11_1',\n",
       "       'X11_2', 'MACD', 'MACD_EMA', 'X12', 'X13', 'MACD_vol', 'MACD_EMA_vol',\n",
       "       'X12_vol', 'X13_vol', 'change_in_price', 'down_days', 'up_days', 'RSI',\n",
       "       'X14', 'low_14', 'high_14', 'k_percent', 'X15', 'd_percent', 'X16',\n",
       "       'X17', 'X18', 'target'],\n",
       "      dtype='object')"
      ]
     },
     "execution_count": 32,
     "metadata": {},
     "output_type": "execute_result"
    }
   ],
   "source": [
    "data.columns"
   ]
  },
  {
   "cell_type": "code",
   "execution_count": 33,
   "id": "e7307119",
   "metadata": {
    "ExecuteTime": {
     "end_time": "2022-01-20T08:58:41.362294Z",
     "start_time": "2022-01-20T08:58:41.315941Z"
    }
   },
   "outputs": [
    {
     "data": {
      "text/html": [
       "<div>\n",
       "<style scoped>\n",
       "    .dataframe tbody tr th:only-of-type {\n",
       "        vertical-align: middle;\n",
       "    }\n",
       "\n",
       "    .dataframe tbody tr th {\n",
       "        vertical-align: top;\n",
       "    }\n",
       "\n",
       "    .dataframe thead th {\n",
       "        text-align: right;\n",
       "    }\n",
       "</style>\n",
       "<table border=\"1\" class=\"dataframe\">\n",
       "  <thead>\n",
       "    <tr style=\"text-align: right;\">\n",
       "      <th></th>\n",
       "      <th>unix</th>\n",
       "      <th>open</th>\n",
       "      <th>high</th>\n",
       "      <th>low</th>\n",
       "      <th>close</th>\n",
       "      <th>X1</th>\n",
       "      <th>X2</th>\n",
       "      <th>X3_1</th>\n",
       "      <th>X3_2</th>\n",
       "      <th>X3_1_vol</th>\n",
       "      <th>...</th>\n",
       "      <th>X12</th>\n",
       "      <th>X13</th>\n",
       "      <th>X12_vol</th>\n",
       "      <th>X13_vol</th>\n",
       "      <th>X14</th>\n",
       "      <th>X15</th>\n",
       "      <th>X16</th>\n",
       "      <th>X17</th>\n",
       "      <th>X18</th>\n",
       "      <th>target</th>\n",
       "    </tr>\n",
       "  </thead>\n",
       "  <tbody>\n",
       "    <tr>\n",
       "      <th>2518</th>\n",
       "      <td>1640995200000</td>\n",
       "      <td>46209.000000</td>\n",
       "      <td>47957.000000</td>\n",
       "      <td>46203.0</td>\n",
       "      <td>47747.0</td>\n",
       "      <td>0.033082</td>\n",
       "      <td>0.880274</td>\n",
       "      <td>-0.006180</td>\n",
       "      <td>0.000795</td>\n",
       "      <td>-0.010271</td>\n",
       "      <td>...</td>\n",
       "      <td>-1254.094786</td>\n",
       "      <td>-1355.940704</td>\n",
       "      <td>-741.802792</td>\n",
       "      <td>-694.998623</td>\n",
       "      <td>45.918504</td>\n",
       "      <td>33.107170</td>\n",
       "      <td>48.936931</td>\n",
       "      <td>22.515887</td>\n",
       "      <td>0.869086</td>\n",
       "      <td>-0.009320</td>\n",
       "    </tr>\n",
       "    <tr>\n",
       "      <th>2519</th>\n",
       "      <td>1641081600000</td>\n",
       "      <td>47746.000000</td>\n",
       "      <td>48012.000000</td>\n",
       "      <td>46648.0</td>\n",
       "      <td>47302.0</td>\n",
       "      <td>-0.009320</td>\n",
       "      <td>0.479472</td>\n",
       "      <td>-0.006488</td>\n",
       "      <td>0.000935</td>\n",
       "      <td>-0.000083</td>\n",
       "      <td>...</td>\n",
       "      <td>-1231.588154</td>\n",
       "      <td>-1331.070194</td>\n",
       "      <td>-840.365830</td>\n",
       "      <td>-724.072064</td>\n",
       "      <td>43.216147</td>\n",
       "      <td>26.245181</td>\n",
       "      <td>49.503115</td>\n",
       "      <td>-6.861989</td>\n",
       "      <td>0.566185</td>\n",
       "      <td>-0.018054</td>\n",
       "    </tr>\n",
       "    <tr>\n",
       "      <th>2520</th>\n",
       "      <td>1641168000000</td>\n",
       "      <td>47304.235105</td>\n",
       "      <td>47578.000000</td>\n",
       "      <td>45689.0</td>\n",
       "      <td>46448.0</td>\n",
       "      <td>-0.018054</td>\n",
       "      <td>0.401800</td>\n",
       "      <td>-0.007267</td>\n",
       "      <td>0.000874</td>\n",
       "      <td>0.001352</td>\n",
       "      <td>...</td>\n",
       "      <td>-1268.044916</td>\n",
       "      <td>-1318.465138</td>\n",
       "      <td>-849.521194</td>\n",
       "      <td>-749.161890</td>\n",
       "      <td>38.233655</td>\n",
       "      <td>12.207972</td>\n",
       "      <td>48.848379</td>\n",
       "      <td>-14.037209</td>\n",
       "      <td>-0.654736</td>\n",
       "      <td>-0.013219</td>\n",
       "    </tr>\n",
       "    <tr>\n",
       "      <th>2521</th>\n",
       "      <td>1641254400000</td>\n",
       "      <td>46449.615556</td>\n",
       "      <td>47671.862805</td>\n",
       "      <td>45568.0</td>\n",
       "      <td>45834.0</td>\n",
       "      <td>-0.013219</td>\n",
       "      <td>0.126434</td>\n",
       "      <td>-0.006821</td>\n",
       "      <td>0.001041</td>\n",
       "      <td>-0.005225</td>\n",
       "      <td>...</td>\n",
       "      <td>-1331.137309</td>\n",
       "      <td>-1320.999572</td>\n",
       "      <td>-750.448764</td>\n",
       "      <td>-749.419265</td>\n",
       "      <td>34.896048</td>\n",
       "      <td>4.081633</td>\n",
       "      <td>44.917790</td>\n",
       "      <td>-8.126340</td>\n",
       "      <td>-3.930589</td>\n",
       "      <td>-0.051905</td>\n",
       "    </tr>\n",
       "    <tr>\n",
       "      <th>2522</th>\n",
       "      <td>1641340800000</td>\n",
       "      <td>45830.000000</td>\n",
       "      <td>47058.000000</td>\n",
       "      <td>42505.0</td>\n",
       "      <td>43455.0</td>\n",
       "      <td>-0.051905</td>\n",
       "      <td>0.208654</td>\n",
       "      <td>-0.006436</td>\n",
       "      <td>0.000821</td>\n",
       "      <td>-0.021729</td>\n",
       "      <td>...</td>\n",
       "      <td>-1555.176793</td>\n",
       "      <td>-1367.835016</td>\n",
       "      <td>-413.498125</td>\n",
       "      <td>-682.235037</td>\n",
       "      <td>25.100224</td>\n",
       "      <td>9.916493</td>\n",
       "      <td>41.460675</td>\n",
       "      <td>5.834860</td>\n",
       "      <td>-3.457115</td>\n",
       "      <td>0.002324</td>\n",
       "    </tr>\n",
       "  </tbody>\n",
       "</table>\n",
       "<p>5 rows × 39 columns</p>\n",
       "</div>"
      ],
      "text/plain": [
       "               unix          open          high      low    close        X1  \\\n",
       "2518  1640995200000  46209.000000  47957.000000  46203.0  47747.0  0.033082   \n",
       "2519  1641081600000  47746.000000  48012.000000  46648.0  47302.0 -0.009320   \n",
       "2520  1641168000000  47304.235105  47578.000000  45689.0  46448.0 -0.018054   \n",
       "2521  1641254400000  46449.615556  47671.862805  45568.0  45834.0 -0.013219   \n",
       "2522  1641340800000  45830.000000  47058.000000  42505.0  43455.0 -0.051905   \n",
       "\n",
       "            X2      X3_1      X3_2  X3_1_vol  ...          X12          X13  \\\n",
       "2518  0.880274 -0.006180  0.000795 -0.010271  ... -1254.094786 -1355.940704   \n",
       "2519  0.479472 -0.006488  0.000935 -0.000083  ... -1231.588154 -1331.070194   \n",
       "2520  0.401800 -0.007267  0.000874  0.001352  ... -1268.044916 -1318.465138   \n",
       "2521  0.126434 -0.006821  0.001041 -0.005225  ... -1331.137309 -1320.999572   \n",
       "2522  0.208654 -0.006436  0.000821 -0.021729  ... -1555.176793 -1367.835016   \n",
       "\n",
       "         X12_vol     X13_vol        X14        X15        X16        X17  \\\n",
       "2518 -741.802792 -694.998623  45.918504  33.107170  48.936931  22.515887   \n",
       "2519 -840.365830 -724.072064  43.216147  26.245181  49.503115  -6.861989   \n",
       "2520 -849.521194 -749.161890  38.233655  12.207972  48.848379 -14.037209   \n",
       "2521 -750.448764 -749.419265  34.896048   4.081633  44.917790  -8.126340   \n",
       "2522 -413.498125 -682.235037  25.100224   9.916493  41.460675   5.834860   \n",
       "\n",
       "           X18    target  \n",
       "2518  0.869086 -0.009320  \n",
       "2519  0.566185 -0.018054  \n",
       "2520 -0.654736 -0.013219  \n",
       "2521 -3.930589 -0.051905  \n",
       "2522 -3.457115  0.002324  \n",
       "\n",
       "[5 rows x 39 columns]"
      ]
     },
     "execution_count": 33,
     "metadata": {},
     "output_type": "execute_result"
    }
   ],
   "source": [
    "data_ann = data[['unix', 'open', 'high', 'low', 'close', 'X1', 'X2', 'X3_1', 'X3_2', 'X3_1_vol', \n",
    "                 'X3_2_vol', 'X4','X4_vol', 'X5_1', 'X5_2', 'X5_1_vol', 'X5_2_vol', 'X6', 'X6_vol', \n",
    "                 'X7','X7_vol', 'X8', 'X9','X8_vol','X9_vol','X10_1','X10_2','X11_1','X11_2', 'X12', \n",
    "                 'X13', 'X12_vol', 'X13_vol','X14', 'X15', 'X16','X17', 'X18', 'target']]\n",
    "data_ann.tail()"
   ]
  },
  {
   "cell_type": "markdown",
   "id": "8a8df0ba",
   "metadata": {},
   "source": [
    "## Save in .csv"
   ]
  },
  {
   "cell_type": "code",
   "execution_count": 34,
   "id": "d1d042a5",
   "metadata": {
    "ExecuteTime": {
     "end_time": "2022-01-08T12:21:57.862647Z",
     "start_time": "2022-01-08T12:21:57.747523Z"
    }
   },
   "outputs": [],
   "source": [
    "data_ann.to_csv(\"data/2. Prepared data/\"+file_name, index=False)"
   ]
  },
  {
   "cell_type": "code",
   "execution_count": null,
   "id": "f345b08b",
   "metadata": {},
   "outputs": [],
   "source": []
  }
 ],
 "metadata": {
  "kernelspec": {
   "display_name": "Python 3 (ipykernel)",
   "language": "python",
   "name": "python3"
  },
  "language_info": {
   "codemirror_mode": {
    "name": "ipython",
    "version": 3
   },
   "file_extension": ".py",
   "mimetype": "text/x-python",
   "name": "python",
   "nbconvert_exporter": "python",
   "pygments_lexer": "ipython3",
   "version": "3.9.9"
  },
  "varInspector": {
   "cols": {
    "lenName": 16,
    "lenType": 16,
    "lenVar": 40
   },
   "kernels_config": {
    "python": {
     "delete_cmd_postfix": "",
     "delete_cmd_prefix": "del ",
     "library": "var_list.py",
     "varRefreshCmd": "print(var_dic_list())"
    },
    "r": {
     "delete_cmd_postfix": ") ",
     "delete_cmd_prefix": "rm(",
     "library": "var_list.r",
     "varRefreshCmd": "cat(var_dic_list()) "
    }
   },
   "types_to_exclude": [
    "module",
    "function",
    "builtin_function_or_method",
    "instance",
    "_Feature"
   ],
   "window_display": false
  }
 },
 "nbformat": 4,
 "nbformat_minor": 5
}
