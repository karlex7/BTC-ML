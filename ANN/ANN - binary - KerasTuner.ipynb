{
 "cells": [
  {
   "cell_type": "code",
   "execution_count": 1,
   "id": "a921d143",
   "metadata": {
    "ExecuteTime": {
     "end_time": "2022-01-20T11:45:00.210597Z",
     "start_time": "2022-01-20T11:44:55.371074Z"
    }
   },
   "outputs": [],
   "source": [
    "import pandas as pd\n",
    "import numpy as np\n",
    "import matplotlib.pyplot as plt\n",
    "import scipy.stats as stats\n",
    "\n",
    "from sklearn.model_selection import train_test_split\n",
    "\n",
    "from sklearn.preprocessing import StandardScaler\n",
    "\n",
    "import tensorflow as tf\n",
    "import keras_tuner as kt\n",
    "from tensorflow import keras\n",
    "\n",
    "from tensorflow.keras.layers import Dense, Activation, AlphaDropout\n",
    "from keras_tuner import RandomSearch\n",
    "from keras_tuner.engine.hyperparameters import HyperParameters\n",
    "import time\n",
    "import datetime\n",
    "from tensorflow.keras.callbacks import TensorBoard\n",
    "import pickle"
   ]
  },
  {
   "cell_type": "code",
   "execution_count": 2,
   "id": "68102f6c",
   "metadata": {
    "ExecuteTime": {
     "end_time": "2022-01-20T11:45:00.272933Z",
     "start_time": "2022-01-20T11:45:00.220737Z"
    }
   },
   "outputs": [
    {
     "data": {
      "text/html": [
       "<div>\n",
       "<style scoped>\n",
       "    .dataframe tbody tr th:only-of-type {\n",
       "        vertical-align: middle;\n",
       "    }\n",
       "\n",
       "    .dataframe tbody tr th {\n",
       "        vertical-align: top;\n",
       "    }\n",
       "\n",
       "    .dataframe thead th {\n",
       "        text-align: right;\n",
       "    }\n",
       "</style>\n",
       "<table border=\"1\" class=\"dataframe\">\n",
       "  <thead>\n",
       "    <tr style=\"text-align: right;\">\n",
       "      <th></th>\n",
       "      <th>unix</th>\n",
       "      <th>open</th>\n",
       "      <th>high</th>\n",
       "      <th>low</th>\n",
       "      <th>close</th>\n",
       "      <th>X1</th>\n",
       "      <th>X2</th>\n",
       "      <th>X3_1</th>\n",
       "      <th>X3_2</th>\n",
       "      <th>X3_1_vol</th>\n",
       "      <th>...</th>\n",
       "      <th>X12</th>\n",
       "      <th>X13</th>\n",
       "      <th>X12_vol</th>\n",
       "      <th>X13_vol</th>\n",
       "      <th>X14</th>\n",
       "      <th>X15</th>\n",
       "      <th>X16</th>\n",
       "      <th>X17</th>\n",
       "      <th>X18</th>\n",
       "      <th>target</th>\n",
       "    </tr>\n",
       "  </thead>\n",
       "  <tbody>\n",
       "    <tr>\n",
       "      <th>0</th>\n",
       "      <td>1424649600</td>\n",
       "      <td>236.59</td>\n",
       "      <td>241.00</td>\n",
       "      <td>232.61</td>\n",
       "      <td>239.73</td>\n",
       "      <td>0.013272</td>\n",
       "      <td>0.848629</td>\n",
       "      <td>NaN</td>\n",
       "      <td>NaN</td>\n",
       "      <td>NaN</td>\n",
       "      <td>...</td>\n",
       "      <td>-0.145911</td>\n",
       "      <td>-0.122399</td>\n",
       "      <td>187.936832</td>\n",
       "      <td>201.196495</td>\n",
       "      <td>29.861155</td>\n",
       "      <td>NaN</td>\n",
       "      <td>NaN</td>\n",
       "      <td>NaN</td>\n",
       "      <td>NaN</td>\n",
       "      <td>-0.000209</td>\n",
       "    </tr>\n",
       "    <tr>\n",
       "      <th>1</th>\n",
       "      <td>1424736000</td>\n",
       "      <td>239.73</td>\n",
       "      <td>240.99</td>\n",
       "      <td>236.70</td>\n",
       "      <td>239.68</td>\n",
       "      <td>-0.000209</td>\n",
       "      <td>0.694639</td>\n",
       "      <td>NaN</td>\n",
       "      <td>NaN</td>\n",
       "      <td>NaN</td>\n",
       "      <td>...</td>\n",
       "      <td>-0.123665</td>\n",
       "      <td>-0.122828</td>\n",
       "      <td>-160.104503</td>\n",
       "      <td>78.804558</td>\n",
       "      <td>29.698216</td>\n",
       "      <td>NaN</td>\n",
       "      <td>NaN</td>\n",
       "      <td>NaN</td>\n",
       "      <td>NaN</td>\n",
       "      <td>-0.007009</td>\n",
       "    </tr>\n",
       "    <tr>\n",
       "      <th>2</th>\n",
       "      <td>1424822400</td>\n",
       "      <td>239.68</td>\n",
       "      <td>240.83</td>\n",
       "      <td>235.53</td>\n",
       "      <td>238.00</td>\n",
       "      <td>-0.007009</td>\n",
       "      <td>0.466038</td>\n",
       "      <td>NaN</td>\n",
       "      <td>NaN</td>\n",
       "      <td>NaN</td>\n",
       "      <td>...</td>\n",
       "      <td>-0.175824</td>\n",
       "      <td>-0.138593</td>\n",
       "      <td>-473.580082</td>\n",
       "      <td>-85.517384</td>\n",
       "      <td>24.512651</td>\n",
       "      <td>NaN</td>\n",
       "      <td>NaN</td>\n",
       "      <td>NaN</td>\n",
       "      <td>NaN</td>\n",
       "      <td>-0.004202</td>\n",
       "    </tr>\n",
       "    <tr>\n",
       "      <th>3</th>\n",
       "      <td>1424908800</td>\n",
       "      <td>238.00</td>\n",
       "      <td>238.34</td>\n",
       "      <td>233.62</td>\n",
       "      <td>237.00</td>\n",
       "      <td>-0.004202</td>\n",
       "      <td>0.716102</td>\n",
       "      <td>NaN</td>\n",
       "      <td>NaN</td>\n",
       "      <td>NaN</td>\n",
       "      <td>...</td>\n",
       "      <td>-0.246635</td>\n",
       "      <td>-0.167879</td>\n",
       "      <td>-434.316764</td>\n",
       "      <td>-180.061409</td>\n",
       "      <td>21.887790</td>\n",
       "      <td>NaN</td>\n",
       "      <td>NaN</td>\n",
       "      <td>NaN</td>\n",
       "      <td>NaN</td>\n",
       "      <td>0.081857</td>\n",
       "    </tr>\n",
       "    <tr>\n",
       "      <th>4</th>\n",
       "      <td>1424995200</td>\n",
       "      <td>237.00</td>\n",
       "      <td>262.80</td>\n",
       "      <td>236.64</td>\n",
       "      <td>256.40</td>\n",
       "      <td>0.081857</td>\n",
       "      <td>0.755352</td>\n",
       "      <td>NaN</td>\n",
       "      <td>NaN</td>\n",
       "      <td>NaN</td>\n",
       "      <td>...</td>\n",
       "      <td>0.591055</td>\n",
       "      <td>0.024187</td>\n",
       "      <td>1889.619565</td>\n",
       "      <td>343.719632</td>\n",
       "      <td>77.005441</td>\n",
       "      <td>NaN</td>\n",
       "      <td>NaN</td>\n",
       "      <td>NaN</td>\n",
       "      <td>NaN</td>\n",
       "      <td>-0.002457</td>\n",
       "    </tr>\n",
       "  </tbody>\n",
       "</table>\n",
       "<p>5 rows × 39 columns</p>\n",
       "</div>"
      ],
      "text/plain": [
       "         unix    open    high     low   close        X1        X2  X3_1  X3_2  \\\n",
       "0  1424649600  236.59  241.00  232.61  239.73  0.013272  0.848629   NaN   NaN   \n",
       "1  1424736000  239.73  240.99  236.70  239.68 -0.000209  0.694639   NaN   NaN   \n",
       "2  1424822400  239.68  240.83  235.53  238.00 -0.007009  0.466038   NaN   NaN   \n",
       "3  1424908800  238.00  238.34  233.62  237.00 -0.004202  0.716102   NaN   NaN   \n",
       "4  1424995200  237.00  262.80  236.64  256.40  0.081857  0.755352   NaN   NaN   \n",
       "\n",
       "   X3_1_vol  ...       X12       X13      X12_vol     X13_vol        X14  X15  \\\n",
       "0       NaN  ... -0.145911 -0.122399   187.936832  201.196495  29.861155  NaN   \n",
       "1       NaN  ... -0.123665 -0.122828  -160.104503   78.804558  29.698216  NaN   \n",
       "2       NaN  ... -0.175824 -0.138593  -473.580082  -85.517384  24.512651  NaN   \n",
       "3       NaN  ... -0.246635 -0.167879  -434.316764 -180.061409  21.887790  NaN   \n",
       "4       NaN  ...  0.591055  0.024187  1889.619565  343.719632  77.005441  NaN   \n",
       "\n",
       "   X16  X17  X18    target  \n",
       "0  NaN  NaN  NaN -0.000209  \n",
       "1  NaN  NaN  NaN -0.007009  \n",
       "2  NaN  NaN  NaN -0.004202  \n",
       "3  NaN  NaN  NaN  0.081857  \n",
       "4  NaN  NaN  NaN -0.002457  \n",
       "\n",
       "[5 rows x 39 columns]"
      ]
     },
     "execution_count": 2,
     "metadata": {},
     "output_type": "execute_result"
    }
   ],
   "source": [
    "#file_name = \"Binance_BTCUSDT_1h.csv\" # 1 hour data\n",
    "#file_name = \"COINBASE_BTCUSD, 240.csv\" # 4 hour data\n",
    "file_name = \"Bitfinex_BTCUSD_d\\.csv\" # 1 day data\n",
    "data = pd.read_csv(\"data/2. Prepared data/\"+file_name)\n",
    "data.head()"
   ]
  },
  {
   "cell_type": "code",
   "execution_count": 3,
   "id": "f74e1f59",
   "metadata": {},
   "outputs": [],
   "source": [
    "model_name = \"\"\n",
    "if file_name == \"Bitfinex_BTCUSD_d\\.csv\":\n",
    "    model_name = \"ann_1D.sav\"\n",
    "elif file_name == \"COINBASE_BTCUSD, 240.csv\":\n",
    "    model_name = \"ann_4H.sav\"\n",
    "elif file_name == \"Binance_BTCUSDT_1h.csv\":\n",
    "    model_name = \"ann_1H.sav\""
   ]
  },
  {
   "cell_type": "code",
   "execution_count": 4,
   "id": "761fd2bf",
   "metadata": {
    "ExecuteTime": {
     "end_time": "2022-01-20T11:45:04.885614Z",
     "start_time": "2022-01-20T11:45:04.881713Z"
    }
   },
   "outputs": [
    {
     "data": {
      "text/plain": [
       "(2509, 39)"
      ]
     },
     "execution_count": 4,
     "metadata": {},
     "output_type": "execute_result"
    }
   ],
   "source": [
    "data.shape"
   ]
  },
  {
   "cell_type": "code",
   "execution_count": 5,
   "id": "359a4dad",
   "metadata": {
    "ExecuteTime": {
     "end_time": "2022-01-20T11:45:06.062079Z",
     "start_time": "2022-01-20T11:45:06.057657Z"
    }
   },
   "outputs": [
    {
     "data": {
      "text/plain": [
       "Index(['unix', 'open', 'high', 'low', 'close', 'X1', 'X2', 'X3_1', 'X3_2',\n",
       "       'X3_1_vol', 'X3_2_vol', 'X4', 'X4_vol', 'X5_1', 'X5_2', 'X5_1_vol',\n",
       "       'X5_2_vol', 'X6', 'X6_vol', 'X7', 'X7_vol', 'X8', 'X9', 'X8_vol',\n",
       "       'X9_vol', 'X10_1', 'X10_2', 'X11_1', 'X11_2', 'X12', 'X13', 'X12_vol',\n",
       "       'X13_vol', 'X14', 'X15', 'X16', 'X17', 'X18', 'target'],\n",
       "      dtype='object')"
      ]
     },
     "execution_count": 5,
     "metadata": {},
     "output_type": "execute_result"
    }
   ],
   "source": [
    "data.columns"
   ]
  },
  {
   "cell_type": "markdown",
   "id": "112b3b94",
   "metadata": {},
   "source": [
    "## Na values"
   ]
  },
  {
   "cell_type": "code",
   "execution_count": 6,
   "id": "9deee06d",
   "metadata": {
    "ExecuteTime": {
     "end_time": "2022-01-20T11:45:08.134188Z",
     "start_time": "2022-01-20T11:45:08.128475Z"
    }
   },
   "outputs": [
    {
     "data": {
      "text/plain": [
       "1347"
      ]
     },
     "execution_count": 6,
     "metadata": {},
     "output_type": "execute_result"
    }
   ],
   "source": [
    "data.isna().sum().sum()"
   ]
  },
  {
   "cell_type": "code",
   "execution_count": 7,
   "id": "b7d0e527",
   "metadata": {
    "ExecuteTime": {
     "end_time": "2022-01-20T11:45:08.396279Z",
     "start_time": "2022-01-20T11:45:08.394004Z"
    }
   },
   "outputs": [],
   "source": [
    "# remove na values"
   ]
  },
  {
   "cell_type": "code",
   "execution_count": 8,
   "id": "134be631",
   "metadata": {
    "ExecuteTime": {
     "end_time": "2022-01-20T11:45:08.716015Z",
     "start_time": "2022-01-20T11:45:08.709559Z"
    }
   },
   "outputs": [
    {
     "name": "stdout",
     "output_type": "stream",
     "text": [
      "(2509, 39)\n",
      "(2315, 39)\n"
     ]
    }
   ],
   "source": [
    "print(data.shape)\n",
    "data = data.dropna()\n",
    "print(data.shape)\n",
    "\n",
    "# 1 DAY\n",
    "#(2509, 39)\n",
    "#(2315, 39)\n",
    "\n",
    "# 4 Hours\n",
    "#(15273, 39)\n",
    "#(15086, 39)\n",
    "\n",
    "# 1 Hour\n",
    "#(40238, 39)\n",
    "#(39922, 39)"
   ]
  },
  {
   "cell_type": "markdown",
   "id": "b483c8a7",
   "metadata": {},
   "source": [
    "## Binary target"
   ]
  },
  {
   "cell_type": "code",
   "execution_count": 9,
   "id": "1b29a3c7",
   "metadata": {
    "ExecuteTime": {
     "end_time": "2022-01-20T11:45:10.718368Z",
     "start_time": "2022-01-20T11:45:10.153652Z"
    }
   },
   "outputs": [
    {
     "name": "stderr",
     "output_type": "stream",
     "text": [
      "/var/folders/q4/7jv79_fs2qb85n7v34tqyj040000gn/T/ipykernel_4958/4268656756.py:8: SettingWithCopyWarning: \n",
      "A value is trying to be set on a copy of a slice from a DataFrame\n",
      "\n",
      "See the caveats in the documentation: https://pandas.pydata.org/pandas-docs/stable/user_guide/indexing.html#returning-a-view-versus-a-copy\n",
      "  data[\"test\"].iloc[i] = 0\n",
      "/var/folders/q4/7jv79_fs2qb85n7v34tqyj040000gn/T/ipykernel_4958/4268656756.py:6: SettingWithCopyWarning: \n",
      "A value is trying to be set on a copy of a slice from a DataFrame\n",
      "\n",
      "See the caveats in the documentation: https://pandas.pydata.org/pandas-docs/stable/user_guide/indexing.html#returning-a-view-versus-a-copy\n",
      "  data[\"test\"].iloc[i] = 1\n"
     ]
    }
   ],
   "source": [
    "data[\"test\"] = -1\n",
    "for i in range(0, len(data)):\n",
    "    if data[\"target\"].iloc[i] > 0.0025: # 1 DAY\n",
    "    #if data[\"target\"].iloc[i] > 0.00035: # 4 Hours\n",
    "    #if data[\"target\"].iloc[i] > 0.0001: # 1 Hour\n",
    "        data[\"test\"].iloc[i] = 1\n",
    "    else:\n",
    "        data[\"test\"].iloc[i] = 0\n",
    "    "
   ]
  },
  {
   "cell_type": "code",
   "execution_count": 14,
   "id": "83034983",
   "metadata": {},
   "outputs": [],
   "source": [
    "#for i in range(0, len(data)):\n",
    "#    print(datetime.datetime.fromtimestamp(data[\"unix\"].iloc[i]))"
   ]
  },
  {
   "cell_type": "code",
   "execution_count": 13,
   "id": "e5a6908e",
   "metadata": {
    "ExecuteTime": {
     "end_time": "2022-01-20T11:45:25.498295Z",
     "start_time": "2022-01-20T11:45:25.495012Z"
    }
   },
   "outputs": [],
   "source": [
    "test_split = round(len(data) * 0.9)\n",
    "data_test = data[test_split:]\n",
    "data = data[:test_split]"
   ]
  },
  {
   "cell_type": "code",
   "execution_count": null,
   "id": "8668621c",
   "metadata": {
    "ExecuteTime": {
     "end_time": "2022-01-20T11:45:44.399755Z",
     "start_time": "2022-01-20T11:45:44.397527Z"
    }
   },
   "outputs": [],
   "source": [
    "\n",
    "data_test.to_csv(\"data/4. Test data for web/\"+ file_name, index=False)"
   ]
  },
  {
   "cell_type": "code",
   "execution_count": null,
   "id": "4dbec086",
   "metadata": {
    "ExecuteTime": {
     "end_time": "2022-01-20T11:45:44.689473Z",
     "start_time": "2022-01-20T11:45:44.664655Z"
    }
   },
   "outputs": [],
   "source": [
    "data.corrwith(data[\"test\"]).sort_values()"
   ]
  },
  {
   "cell_type": "markdown",
   "id": "7ecf5b72",
   "metadata": {},
   "source": [
    "## Remove outliers"
   ]
  },
  {
   "cell_type": "code",
   "execution_count": null,
   "id": "9e7d8050",
   "metadata": {
    "ExecuteTime": {
     "end_time": "2022-01-20T11:45:45.546284Z",
     "start_time": "2022-01-20T11:45:45.541822Z"
    }
   },
   "outputs": [],
   "source": [
    "def describe_data(dataset):\n",
    "    values = []\n",
    "    for col in dataset.columns:\n",
    "        values.append({\n",
    "            'Column': col,\n",
    "            'Mean': round(np.mean(dataset[col]), 2),\n",
    "            'Min': round(np.min(dataset[col]), 2),\n",
    "            'Max': round(np.max(dataset[col]), 2),\n",
    "            'Std': round(np.std(dataset[col]), 2),\n",
    "            'Max Z-Val': round(np.abs(max(stats.zscore(dataset[col]))), 2)\n",
    "        })\n",
    "    return pd.DataFrame(values)"
   ]
  },
  {
   "cell_type": "code",
   "execution_count": null,
   "id": "ac43c5f8",
   "metadata": {
    "ExecuteTime": {
     "end_time": "2022-01-20T11:45:46.206243Z",
     "start_time": "2022-01-20T11:45:45.752736Z"
    }
   },
   "outputs": [],
   "source": [
    "describe_data(data)"
   ]
  },
  {
   "cell_type": "markdown",
   "id": "029039a1",
   "metadata": {},
   "source": [
    "As we can see we have a lot of outliers and we have to remove them."
   ]
  },
  {
   "cell_type": "code",
   "execution_count": null,
   "id": "7b991671",
   "metadata": {
    "ExecuteTime": {
     "end_time": "2022-01-20T11:45:46.519537Z",
     "start_time": "2022-01-20T11:45:46.515695Z"
    }
   },
   "outputs": [],
   "source": [
    "data.columns"
   ]
  },
  {
   "cell_type": "code",
   "execution_count": null,
   "id": "678137d2",
   "metadata": {
    "ExecuteTime": {
     "end_time": "2022-01-20T11:45:47.170465Z",
     "start_time": "2022-01-20T11:45:47.165105Z"
    }
   },
   "outputs": [],
   "source": [
    "# Drop target from outliers removal\n",
    "data_output = data[[ 'X1', 'X2', 'X3_1', 'X3_2', 'X3_1_vol', 'X3_2_vol', 'X4','X4_vol', 'X5_1',\n",
    "                    'X5_2', 'X5_1_vol', 'X5_2_vol', 'X6', 'X6_vol', 'X7','X7_vol', 'X8', 'X9','X8_vol',\n",
    "                    'X9_vol','X10_1','X10_2','X11_1','X11_2', 'X12', 'X13', 'X12_vol', 'X13_vol','X14', \n",
    "                    'X15', 'X16','X17', 'X18']]"
   ]
  },
  {
   "cell_type": "code",
   "execution_count": null,
   "id": "3718b690",
   "metadata": {
    "ExecuteTime": {
     "end_time": "2022-01-20T11:45:48.281504Z",
     "start_time": "2022-01-20T11:45:48.262238Z"
    }
   },
   "outputs": [],
   "source": [
    "print(data.shape)\n",
    "z_scores = stats.zscore(data_output)\n",
    "\n",
    "abs_z_scores = np.abs(z_scores)\n",
    "filtered_entries = (abs_z_scores < 3).all(axis=1)\n",
    "new_df = data[filtered_entries]\n",
    "print(new_df.shape)\n",
    "\n",
    "# 1 DAY\n",
    "#(2084, 40)\n",
    "#(1530, 40)\n",
    "\n",
    "# 4 Hour\n",
    "#(13577, 40)\n",
    "#(10334, 40)\n",
    "\n",
    "# 1 Hour\n",
    "#(35930, 40)\n",
    "#(26524, 40)"
   ]
  },
  {
   "cell_type": "code",
   "execution_count": null,
   "id": "45fd1f91",
   "metadata": {
    "ExecuteTime": {
     "end_time": "2022-01-20T11:45:48.856365Z",
     "start_time": "2022-01-20T11:45:48.820056Z"
    }
   },
   "outputs": [],
   "source": [
    "describe_data(new_df)"
   ]
  },
  {
   "cell_type": "code",
   "execution_count": null,
   "id": "e8f3e184",
   "metadata": {
    "ExecuteTime": {
     "end_time": "2022-01-20T11:45:48.945902Z",
     "start_time": "2022-01-20T11:45:48.943649Z"
    }
   },
   "outputs": [],
   "source": [
    "data = new_df"
   ]
  },
  {
   "cell_type": "code",
   "execution_count": null,
   "id": "9024986b",
   "metadata": {
    "ExecuteTime": {
     "end_time": "2022-01-20T11:45:49.148989Z",
     "start_time": "2022-01-20T11:45:49.127453Z"
    }
   },
   "outputs": [],
   "source": [
    "(data.corrwith(data[\"test\"]).abs()).sort_values(ascending=False)"
   ]
  },
  {
   "cell_type": "markdown",
   "id": "df561c1c",
   "metadata": {},
   "source": [
    "## Creating X and y"
   ]
  },
  {
   "cell_type": "code",
   "execution_count": null,
   "id": "b4245b69",
   "metadata": {
    "ExecuteTime": {
     "end_time": "2022-01-20T11:45:49.712699Z",
     "start_time": "2022-01-20T11:45:49.708413Z"
    }
   },
   "outputs": [],
   "source": [
    "data.columns"
   ]
  },
  {
   "cell_type": "code",
   "execution_count": null,
   "id": "60ed5d44",
   "metadata": {
    "ExecuteTime": {
     "end_time": "2022-01-20T11:45:49.923418Z",
     "start_time": "2022-01-20T11:45:49.917544Z"
    }
   },
   "outputs": [],
   "source": [
    "X = data[[ 'X1', 'X2', 'X3_1', 'X3_2', 'X3_1_vol', 'X3_2_vol', 'X4','X4_vol', 'X5_1','X5_2', 'X5_1_vol', 'X5_2_vol',\n",
    "          'X6', 'X6_vol', 'X7','X7_vol', 'X8', 'X9','X8_vol','X9_vol','X10_1','X10_2','X11_1','X11_2', 'X12', 'X13', \n",
    "          'X12_vol', 'X13_vol','X14', 'X15', 'X16','X17', 'X18']].values\n",
    "X"
   ]
  },
  {
   "cell_type": "code",
   "execution_count": null,
   "id": "9325559d",
   "metadata": {
    "ExecuteTime": {
     "end_time": "2022-01-20T11:45:50.102680Z",
     "start_time": "2022-01-20T11:45:50.098594Z"
    }
   },
   "outputs": [],
   "source": [
    "y = data[[\"test\"]].values\n",
    "y"
   ]
  },
  {
   "cell_type": "code",
   "execution_count": null,
   "id": "9c11f23d",
   "metadata": {
    "ExecuteTime": {
     "end_time": "2022-01-20T11:45:50.735358Z",
     "start_time": "2022-01-20T11:45:50.732222Z"
    }
   },
   "outputs": [],
   "source": [
    "print(\"X and y shape:\")\n",
    "print(X.shape)\n",
    "print(y.shape)"
   ]
  },
  {
   "cell_type": "markdown",
   "id": "19e8bce1",
   "metadata": {},
   "source": [
    "## Data standardization"
   ]
  },
  {
   "cell_type": "code",
   "execution_count": null,
   "id": "cff26be4",
   "metadata": {
    "ExecuteTime": {
     "end_time": "2022-01-20T11:45:51.562504Z",
     "start_time": "2022-01-20T11:45:51.557047Z"
    }
   },
   "outputs": [],
   "source": [
    "scale= StandardScaler()\n",
    "\n",
    "X = scale.fit_transform(X)\n",
    "X"
   ]
  },
  {
   "cell_type": "markdown",
   "id": "3adbdd7e",
   "metadata": {},
   "source": [
    "## Data spliting"
   ]
  },
  {
   "cell_type": "code",
   "execution_count": null,
   "id": "cea50a3a",
   "metadata": {
    "ExecuteTime": {
     "end_time": "2022-01-20T11:45:52.757457Z",
     "start_time": "2022-01-20T11:45:52.752205Z"
    }
   },
   "outputs": [],
   "source": [
    "X_train, X_test, y_train, y_test = train_test_split(X, y, test_size=0.2, random_state=42)\n",
    "#X_train, X_valid, y_train, y_valid = train_test_split(X_train, y_train, test_size=0.2, random_state=42)\n",
    "print(\"Train shape:\")\n",
    "print(X_train.shape)\n",
    "print(y_train.shape)\n",
    "#print(\"Validation shape:\")\n",
    "#print(X_valid.shape)\n",
    "#print(y_valid.shape)\n",
    "print(\"Test shape:\")\n",
    "print(X_test.shape)\n",
    "print(y_test.shape)"
   ]
  },
  {
   "cell_type": "markdown",
   "id": "9880a559",
   "metadata": {},
   "source": [
    "# Keras Tuner"
   ]
  },
  {
   "cell_type": "code",
   "execution_count": null,
   "id": "6d12ed5c",
   "metadata": {
    "ExecuteTime": {
     "end_time": "2022-01-20T11:45:53.741062Z",
     "start_time": "2022-01-20T11:45:53.709809Z"
    }
   },
   "outputs": [],
   "source": [
    "up = 0\n",
    "down = 0\n",
    "for i in range(0, len(data)):\n",
    "    if data[\"test\"].iloc[i] == 1:\n",
    "        up+=1\n",
    "    if data[\"test\"].iloc[i] == 0:\n",
    "        down+=1\n",
    "print(\"All: \", len(data))\n",
    "print(\"Up: \", up,\" = \" ,round((up/len(data)),2),\"%\")\n",
    "print(\"Down: \", down,\" = \" ,round((down/len(data)),2),\"%\")"
   ]
  },
  {
   "cell_type": "code",
   "execution_count": null,
   "id": "36320f15",
   "metadata": {
    "ExecuteTime": {
     "end_time": "2022-01-20T11:45:56.743365Z",
     "start_time": "2022-01-20T11:45:56.739234Z"
    }
   },
   "outputs": [],
   "source": [
    "from tensorflow.keras.layers import Dense, Activation, AlphaDropout\n",
    "from kerastuner.tuners import RandomSearch, Hyperband, BayesianOptimization\n",
    "from keras_tuner.engine.hyperparameters import HyperParameters\n",
    "import time\n",
    "import datetime\n",
    "from tensorflow.keras.callbacks import TensorBoard, EarlyStopping\n",
    "\n",
    "#LOG_DIR = f\"/logs/{int(time.time())}\"\n",
    "\n",
    "\n",
    "#tensorboard = TensorBoard(log_dir=LOG_DIR)\n",
    "\n",
    "LOG_DIR = \"logs/fit/\" + datetime.datetime.now().strftime(\"%Y%m%d-%H%M%S\") + file_name\n",
    "tensorboard_callback = tf.keras.callbacks.TensorBoard(log_dir=LOG_DIR, histogram_freq=1)\n"
   ]
  },
  {
   "cell_type": "code",
   "execution_count": null,
   "id": "59d7a411",
   "metadata": {
    "ExecuteTime": {
     "end_time": "2022-01-20T11:46:06.572726Z",
     "start_time": "2022-01-20T11:46:06.566435Z"
    }
   },
   "outputs": [],
   "source": [
    "def build_model(hp):\n",
    "    model = keras.Sequential()\n",
    "    \n",
    "    model.add(Dense(units = hp.Int(\"input_units\",2,500, 2), activation = 'relu', input_shape = (X.shape[1],)))\n",
    "\n",
    "    dropout_rate = hp.Choice('dropout_rate', values=[0.2])#, 0.3, 0.4, 0.5, 0.6])\n",
    "    model.add(AlphaDropout(dropout_rate))\n",
    "    \n",
    "    \n",
    "    for i in range(hp.Int('n_layers', 2, 7)):  # adding variation of layers.\n",
    "        model.add(Dense(hp.Int(f'hidden_{i}_unit',\n",
    "                                2,500, 2), activation = 'relu'))\n",
    "    \n",
    "        model.add(AlphaDropout(dropout_rate))\n",
    "\n",
    "\n",
    "    model.add(Dense(units = 1, activation= 'sigmoid'))\n",
    "    \n",
    "    #p_learning_rate = hp.Choice('learning_rate', values=[1e-2, 1e-3, 1e-4])\n",
    "    initial_learning_rate = 0.01\n",
    "    lr_schedule = tf.keras.optimizers.schedules.ExponentialDecay(\n",
    "        initial_learning_rate,\n",
    "        decay_steps=100000,\n",
    "        decay_rate=0.96,\n",
    "        staircase=True)\n",
    "    \n",
    "    model.compile(\n",
    "    loss=tf.keras.losses.mae, \n",
    "    optimizer=tf.keras.optimizers.Adam(learning_rate=lr_schedule), \n",
    "    metrics=['accuracy'])\n",
    "    \n",
    "    return model\n",
    "LOG_DIR = f\"{int(time.time())}\""
   ]
  },
  {
   "cell_type": "code",
   "execution_count": null,
   "id": "2420ed69",
   "metadata": {
    "ExecuteTime": {
     "end_time": "2022-01-20T11:46:07.497210Z",
     "start_time": "2022-01-20T11:46:07.438261Z"
    }
   },
   "outputs": [],
   "source": [
    "tuner = BayesianOptimization(\n",
    "    build_model,\n",
    "    objective=\"val_accuracy\",\n",
    "    max_trials=100,\n",
    "    #executions_per_trial=2,\n",
    "    directory=LOG_DIR\n",
    ")"
   ]
  },
  {
   "cell_type": "code",
   "execution_count": null,
   "id": "1a6fe1d6",
   "metadata": {
    "ExecuteTime": {
     "end_time": "2022-01-20T11:54:43.762036Z",
     "start_time": "2022-01-20T11:46:09.238218Z"
    }
   },
   "outputs": [],
   "source": [
    "tuner.search(\n",
    "    x= X_train, \n",
    "    y=y_train, \n",
    "    epochs=100, \n",
    "    batch_size=64, \n",
    "    #validation_data=(X_valid, y_valid),\n",
    "    validation_split=0.2,\n",
    "    callbacks= [EarlyStopping(monitor='accuracy', patience=20)]\n",
    ")\n",
    "\n",
    "# 1 DAY\n",
    "# Best val_accuracy So Far: 0.6326531171798706\n",
    "\n",
    "# 4 Hours\n",
    "# Best val_accuracy So Far: 0.568923830986023\n",
    "\n",
    "# 1 Hour\n",
    "# Best val_accuracy So Far: 0.5581998229026794"
   ]
  },
  {
   "cell_type": "code",
   "execution_count": null,
   "id": "3934cd99",
   "metadata": {
    "ExecuteTime": {
     "end_time": "2022-01-20T11:54:44.052961Z",
     "start_time": "2022-01-20T11:54:43.881413Z"
    }
   },
   "outputs": [],
   "source": [
    "best_model = tuner.get_best_models()[0]"
   ]
  },
  {
   "cell_type": "code",
   "execution_count": null,
   "id": "179a643b",
   "metadata": {
    "ExecuteTime": {
     "end_time": "2022-01-20T11:54:44.169697Z",
     "start_time": "2022-01-20T11:54:44.166381Z"
    }
   },
   "outputs": [],
   "source": [
    "tuner.get_best_hyperparameters()[0].values"
   ]
  },
  {
   "cell_type": "code",
   "execution_count": null,
   "id": "b597fb4f",
   "metadata": {
    "ExecuteTime": {
     "end_time": "2022-01-20T11:54:44.283153Z",
     "start_time": "2022-01-20T11:54:44.280181Z"
    }
   },
   "outputs": [],
   "source": [
    "best_model.summary()"
   ]
  },
  {
   "cell_type": "code",
   "execution_count": null,
   "id": "1e68237e",
   "metadata": {
    "ExecuteTime": {
     "end_time": "2022-01-20T11:54:44.520825Z",
     "start_time": "2022-01-20T11:54:44.392773Z"
    }
   },
   "outputs": [],
   "source": [
    "best_model.evaluate(X_test, y_test)"
   ]
  },
  {
   "cell_type": "code",
   "execution_count": null,
   "id": "1b78e1d7",
   "metadata": {
    "ExecuteTime": {
     "end_time": "2022-01-20T11:54:44.706474Z",
     "start_time": "2022-01-20T11:54:44.630472Z"
    }
   },
   "outputs": [],
   "source": [
    "predictions = best_model.predict(X_test)\n",
    "predictions"
   ]
  },
  {
   "cell_type": "code",
   "execution_count": null,
   "id": "36d786bc",
   "metadata": {
    "ExecuteTime": {
     "end_time": "2022-01-20T11:54:44.829768Z",
     "start_time": "2022-01-20T11:54:44.820991Z"
    }
   },
   "outputs": [],
   "source": [
    "tuner.results_summary()"
   ]
  },
  {
   "cell_type": "code",
   "execution_count": null,
   "id": "ac8487a2",
   "metadata": {
    "ExecuteTime": {
     "end_time": "2022-01-20T11:54:44.955120Z",
     "start_time": "2022-01-20T11:54:44.952928Z"
    }
   },
   "outputs": [],
   "source": [
    "#%load_ext tensorboard"
   ]
  },
  {
   "cell_type": "code",
   "execution_count": null,
   "id": "38f938c7",
   "metadata": {
    "ExecuteTime": {
     "end_time": "2022-01-20T11:54:45.072771Z",
     "start_time": "2022-01-20T11:54:45.070306Z"
    }
   },
   "outputs": [],
   "source": [
    "#%tensorboard --logdir logs"
   ]
  },
  {
   "cell_type": "code",
   "execution_count": null,
   "id": "ec4be2cf",
   "metadata": {
    "ExecuteTime": {
     "end_time": "2022-01-20T11:54:45.859151Z",
     "start_time": "2022-01-20T11:54:45.196141Z"
    }
   },
   "outputs": [],
   "source": [
    "pickle.dump(best_model, open(\"models/\"+model_name, 'wb'))"
   ]
  },
  {
   "cell_type": "code",
   "execution_count": null,
   "id": "02fe77d0",
   "metadata": {
    "ExecuteTime": {
     "end_time": "2022-01-20T11:54:45.978058Z",
     "start_time": "2022-01-20T11:54:45.973422Z"
    }
   },
   "outputs": [],
   "source": [
    "X_train, X_valid, y_train, y_valid = train_test_split(X_train, y_train, test_size=0.2, random_state=42)"
   ]
  },
  {
   "cell_type": "code",
   "execution_count": null,
   "id": "aa3f3cb3",
   "metadata": {
    "ExecuteTime": {
     "end_time": "2022-01-20T11:54:46.460081Z",
     "start_time": "2022-01-20T11:54:46.104744Z"
    }
   },
   "outputs": [],
   "source": [
    "loaded_model = pickle.load(open(\"models/\"+model_name, 'rb'))\n",
    "result = loaded_model.evaluate(X_valid, y_valid)\n",
    "print(result)\n",
    "\n",
    "# 1 DAY\n",
    "# [0.35910338163375854, 0.644897997379303]\n",
    "\n",
    "# 4 Hours\n",
    "# [0.4530210494995117, 0.547158420085907]\n",
    "\n",
    "# 1 Hour\n",
    "# [0.44210100173950195, 0.5577285289764404]"
   ]
  },
  {
   "cell_type": "code",
   "execution_count": null,
   "id": "64ee65f4",
   "metadata": {
    "ExecuteTime": {
     "end_time": "2022-01-20T11:54:46.615954Z",
     "start_time": "2022-01-20T11:54:46.610505Z"
    }
   },
   "outputs": [],
   "source": [
    "loaded_model.summary()"
   ]
  },
  {
   "cell_type": "code",
   "execution_count": null,
   "id": "25f54199",
   "metadata": {},
   "outputs": [],
   "source": []
  }
 ],
 "metadata": {
  "kernelspec": {
   "display_name": "Python 3 (ipykernel)",
   "language": "python",
   "name": "python3"
  },
  "language_info": {
   "codemirror_mode": {
    "name": "ipython",
    "version": 3
   },
   "file_extension": ".py",
   "mimetype": "text/x-python",
   "name": "python",
   "nbconvert_exporter": "python",
   "pygments_lexer": "ipython3",
   "version": "3.9.9"
  },
  "varInspector": {
   "cols": {
    "lenName": 16,
    "lenType": 16,
    "lenVar": 40
   },
   "kernels_config": {
    "python": {
     "delete_cmd_postfix": "",
     "delete_cmd_prefix": "del ",
     "library": "var_list.py",
     "varRefreshCmd": "print(var_dic_list())"
    },
    "r": {
     "delete_cmd_postfix": ") ",
     "delete_cmd_prefix": "rm(",
     "library": "var_list.r",
     "varRefreshCmd": "cat(var_dic_list()) "
    }
   },
   "types_to_exclude": [
    "module",
    "function",
    "builtin_function_or_method",
    "instance",
    "_Feature"
   ],
   "window_display": false
  }
 },
 "nbformat": 4,
 "nbformat_minor": 5
}
